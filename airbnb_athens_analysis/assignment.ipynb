{
 "cells": [
  {
   "cell_type": "markdown",
   "metadata": {},
   "source": [
    "# Exploring AirBnb In Athens"
   ]
  },
  {
   "cell_type": "markdown",
   "metadata": {},
   "source": [
    "First, we import the necessary libraries and read the data. \n"
   ]
  },
  {
   "cell_type": "code",
   "execution_count": 1,
   "metadata": {},
   "outputs": [],
   "source": [
    "import numpy as np\n",
    "import pandas as pd\n",
    "import matplotlib.pyplot as plt"
   ]
  },
  {
   "cell_type": "code",
   "execution_count": 2,
   "metadata": {},
   "outputs": [],
   "source": [
    "import warnings\n",
    "warnings.simplefilter(action='ignore', category=FutureWarning)"
   ]
  },
  {
   "cell_type": "markdown",
   "metadata": {},
   "source": [
    "We will primarily use the listings.csv file, which contains information about the listings in Athens."
   ]
  },
  {
   "cell_type": "code",
   "execution_count": 3,
   "metadata": {},
   "outputs": [],
   "source": [
    "listings = pd.read_csv('../data/listings.csv')"
   ]
  },
  {
   "cell_type": "markdown",
   "metadata": {},
   "source": [
    "Lets perform a quick check to examine the available columns."
   ]
  },
  {
   "cell_type": "code",
   "execution_count": 4,
   "metadata": {},
   "outputs": [
    {
     "data": {
      "text/plain": [
       "Index(['id', 'name', 'host_id', 'host_name', 'neighbourhood_group',\n",
       "       'neighbourhood', 'latitude', 'longitude', 'room_type', 'price',\n",
       "       'minimum_nights', 'number_of_reviews', 'last_review',\n",
       "       'reviews_per_month', 'calculated_host_listings_count',\n",
       "       'availability_365', 'number_of_reviews_ltm', 'license'],\n",
       "      dtype='object')"
      ]
     },
     "execution_count": 4,
     "metadata": {},
     "output_type": "execute_result"
    }
   ],
   "source": [
    "listings.columns"
   ]
  },
  {
   "cell_type": "markdown",
   "metadata": {},
   "source": [
    "And another one to get a sample of the data, we will use the sample() function for this purpose and select 5 random rows."
   ]
  },
  {
   "cell_type": "code",
   "execution_count": 5,
   "metadata": {},
   "outputs": [
    {
     "data": {
      "text/html": [
       "<div>\n",
       "<style scoped>\n",
       "    .dataframe tbody tr th:only-of-type {\n",
       "        vertical-align: middle;\n",
       "    }\n",
       "\n",
       "    .dataframe tbody tr th {\n",
       "        vertical-align: top;\n",
       "    }\n",
       "\n",
       "    .dataframe thead th {\n",
       "        text-align: right;\n",
       "    }\n",
       "</style>\n",
       "<table border=\"1\" class=\"dataframe\">\n",
       "  <thead>\n",
       "    <tr style=\"text-align: right;\">\n",
       "      <th></th>\n",
       "      <th>id</th>\n",
       "      <th>name</th>\n",
       "      <th>host_id</th>\n",
       "      <th>host_name</th>\n",
       "      <th>neighbourhood_group</th>\n",
       "      <th>neighbourhood</th>\n",
       "      <th>latitude</th>\n",
       "      <th>longitude</th>\n",
       "      <th>room_type</th>\n",
       "      <th>price</th>\n",
       "      <th>minimum_nights</th>\n",
       "      <th>number_of_reviews</th>\n",
       "      <th>last_review</th>\n",
       "      <th>reviews_per_month</th>\n",
       "      <th>calculated_host_listings_count</th>\n",
       "      <th>availability_365</th>\n",
       "      <th>number_of_reviews_ltm</th>\n",
       "      <th>license</th>\n",
       "    </tr>\n",
       "  </thead>\n",
       "  <tbody>\n",
       "    <tr>\n",
       "      <th>9742</th>\n",
       "      <td>793214837359501659</td>\n",
       "      <td>Rental unit in Athina · ★4.21 · 1 bedroom · 1 ...</td>\n",
       "      <td>182156346</td>\n",
       "      <td>Maryland</td>\n",
       "      <td>NaN</td>\n",
       "      <td>ΑΓΙΟΣ ΚΩΝΣΤΑΝΤΙΝΟΣ-ΠΛΑΤΕΙΑ ΒΑΘΗΣ</td>\n",
       "      <td>37.985746</td>\n",
       "      <td>23.722350</td>\n",
       "      <td>Entire home/apt</td>\n",
       "      <td>29</td>\n",
       "      <td>1</td>\n",
       "      <td>14</td>\n",
       "      <td>2023-09-07</td>\n",
       "      <td>2.14</td>\n",
       "      <td>56</td>\n",
       "      <td>335</td>\n",
       "      <td>14</td>\n",
       "      <td>00001858643</td>\n",
       "    </tr>\n",
       "    <tr>\n",
       "      <th>2533</th>\n",
       "      <td>26148638</td>\n",
       "      <td>Rental unit in Athina · ★4.99 · 2 bedrooms · 3...</td>\n",
       "      <td>159290878</td>\n",
       "      <td>Nadine</td>\n",
       "      <td>NaN</td>\n",
       "      <td>ΕΜΠΟΡΙΚΟ ΤΡΙΓΩΝΟ-ΠΛΑΚΑ</td>\n",
       "      <td>37.970220</td>\n",
       "      <td>23.730700</td>\n",
       "      <td>Entire home/apt</td>\n",
       "      <td>95</td>\n",
       "      <td>2</td>\n",
       "      <td>296</td>\n",
       "      <td>2023-09-18</td>\n",
       "      <td>4.65</td>\n",
       "      <td>1</td>\n",
       "      <td>95</td>\n",
       "      <td>77</td>\n",
       "      <td>00000084031</td>\n",
       "    </tr>\n",
       "    <tr>\n",
       "      <th>2906</th>\n",
       "      <td>28554991</td>\n",
       "      <td>Rental unit in Athina · ★4.92 · 1 bedroom · 2 ...</td>\n",
       "      <td>53983867</td>\n",
       "      <td>Chris</td>\n",
       "      <td>NaN</td>\n",
       "      <td>ΕΜΠΟΡΙΚΟ ΤΡΙΓΩΝΟ-ΠΛΑΚΑ</td>\n",
       "      <td>37.978860</td>\n",
       "      <td>23.729470</td>\n",
       "      <td>Entire home/apt</td>\n",
       "      <td>81</td>\n",
       "      <td>3</td>\n",
       "      <td>62</td>\n",
       "      <td>2023-09-06</td>\n",
       "      <td>1.04</td>\n",
       "      <td>13</td>\n",
       "      <td>292</td>\n",
       "      <td>14</td>\n",
       "      <td>00001152460</td>\n",
       "    </tr>\n",
       "    <tr>\n",
       "      <th>7798</th>\n",
       "      <td>608054962588263862</td>\n",
       "      <td>Condo in Athina · ★4.86 · Studio · 1 bed · 1 bath</td>\n",
       "      <td>454673943</td>\n",
       "      <td>Ouiliam</td>\n",
       "      <td>NaN</td>\n",
       "      <td>ΕΜΠΟΡΙΚΟ ΤΡΙΓΩΝΟ-ΠΛΑΚΑ</td>\n",
       "      <td>37.976532</td>\n",
       "      <td>23.727875</td>\n",
       "      <td>Entire home/apt</td>\n",
       "      <td>108</td>\n",
       "      <td>1</td>\n",
       "      <td>65</td>\n",
       "      <td>2023-09-14</td>\n",
       "      <td>3.82</td>\n",
       "      <td>20</td>\n",
       "      <td>317</td>\n",
       "      <td>47</td>\n",
       "      <td>00001532904</td>\n",
       "    </tr>\n",
       "    <tr>\n",
       "      <th>10023</th>\n",
       "      <td>813662087664842185</td>\n",
       "      <td>Rental unit in Athina · ★4.89 · Studio · 1 bath</td>\n",
       "      <td>498224697</td>\n",
       "      <td>Kelly Kalliopi</td>\n",
       "      <td>NaN</td>\n",
       "      <td>ΚΟΥΚΑΚΙ-ΜΑΚΡΥΓΙΑΝΝΗ</td>\n",
       "      <td>37.966705</td>\n",
       "      <td>23.726300</td>\n",
       "      <td>Entire home/apt</td>\n",
       "      <td>71</td>\n",
       "      <td>2</td>\n",
       "      <td>36</td>\n",
       "      <td>2023-09-04</td>\n",
       "      <td>5.02</td>\n",
       "      <td>1</td>\n",
       "      <td>85</td>\n",
       "      <td>36</td>\n",
       "      <td>00001859969</td>\n",
       "    </tr>\n",
       "  </tbody>\n",
       "</table>\n",
       "</div>"
      ],
      "text/plain": [
       "                       id                                               name  \\\n",
       "9742   793214837359501659  Rental unit in Athina · ★4.21 · 1 bedroom · 1 ...   \n",
       "2533             26148638  Rental unit in Athina · ★4.99 · 2 bedrooms · 3...   \n",
       "2906             28554991  Rental unit in Athina · ★4.92 · 1 bedroom · 2 ...   \n",
       "7798   608054962588263862  Condo in Athina · ★4.86 · Studio · 1 bed · 1 bath   \n",
       "10023  813662087664842185    Rental unit in Athina · ★4.89 · Studio · 1 bath   \n",
       "\n",
       "         host_id       host_name  neighbourhood_group  \\\n",
       "9742   182156346        Maryland                  NaN   \n",
       "2533   159290878          Nadine                  NaN   \n",
       "2906    53983867           Chris                  NaN   \n",
       "7798   454673943         Ouiliam                  NaN   \n",
       "10023  498224697  Kelly Kalliopi                  NaN   \n",
       "\n",
       "                          neighbourhood   latitude  longitude  \\\n",
       "9742   ΑΓΙΟΣ ΚΩΝΣΤΑΝΤΙΝΟΣ-ΠΛΑΤΕΙΑ ΒΑΘΗΣ  37.985746  23.722350   \n",
       "2533             ΕΜΠΟΡΙΚΟ ΤΡΙΓΩΝΟ-ΠΛΑΚΑ  37.970220  23.730700   \n",
       "2906             ΕΜΠΟΡΙΚΟ ΤΡΙΓΩΝΟ-ΠΛΑΚΑ  37.978860  23.729470   \n",
       "7798             ΕΜΠΟΡΙΚΟ ΤΡΙΓΩΝΟ-ΠΛΑΚΑ  37.976532  23.727875   \n",
       "10023               ΚΟΥΚΑΚΙ-ΜΑΚΡΥΓΙΑΝΝΗ  37.966705  23.726300   \n",
       "\n",
       "             room_type  price  minimum_nights  number_of_reviews last_review  \\\n",
       "9742   Entire home/apt     29               1                 14  2023-09-07   \n",
       "2533   Entire home/apt     95               2                296  2023-09-18   \n",
       "2906   Entire home/apt     81               3                 62  2023-09-06   \n",
       "7798   Entire home/apt    108               1                 65  2023-09-14   \n",
       "10023  Entire home/apt     71               2                 36  2023-09-04   \n",
       "\n",
       "       reviews_per_month  calculated_host_listings_count  availability_365  \\\n",
       "9742                2.14                              56               335   \n",
       "2533                4.65                               1                95   \n",
       "2906                1.04                              13               292   \n",
       "7798                3.82                              20               317   \n",
       "10023               5.02                               1                85   \n",
       "\n",
       "       number_of_reviews_ltm      license  \n",
       "9742                      14  00001858643  \n",
       "2533                      77  00000084031  \n",
       "2906                      14  00001152460  \n",
       "7798                      47  00001532904  \n",
       "10023                     36  00001859969  "
      ]
     },
     "execution_count": 5,
     "metadata": {},
     "output_type": "execute_result"
    }
   ],
   "source": [
    "listings.sample(5)"
   ]
  },
  {
   "cell_type": "markdown",
   "metadata": {},
   "source": [
    "## Neighbourhood Listings in Descending Order\n",
    "\n",
    "Lets see how many listings are available per neighbourhood. We will use the ```value_counts()``` function on the neighbourhoods column for that.\n",
    "<br>\n",
    "We ensure that the results are sorted in descending popularity order by using the ```sort_values()``` function."
   ]
  },
  {
   "cell_type": "markdown",
   "metadata": {},
   "source": [
    "For the sake of readability, we will only display the top 10 rows of the results, a pattern we will follow throughout this notebook. "
   ]
  },
  {
   "cell_type": "code",
   "execution_count": 6,
   "metadata": {},
   "outputs": [
    {
     "name": "stdout",
     "output_type": "stream",
     "text": [
      "neighbourhood\n",
      "ΕΜΠΟΡΙΚΟ ΤΡΙΓΩΝΟ-ΠΛΑΚΑ              2416\n",
      "ΚΟΥΚΑΚΙ-ΜΑΚΡΥΓΙΑΝΝΗ                 1122\n",
      "ΝΕΟΣ ΚΟΣΜΟΣ                          980\n",
      "ΜΟΥΣΕΙΟ-ΕΞΑΡΧΕΙΑ-ΝΕΑΠΟΛΗ             979\n",
      "ΑΓΙΟΣ ΚΩΝΣΤΑΝΤΙΝΟΣ-ΠΛΑΤΕΙΑ ΒΑΘΗΣ     817\n",
      "ΠΛΑΤΕΙΑ ΑΤΤΙΚΗΣ                      583\n",
      "ΠΑΓΚΡΑΤΙ                             511\n",
      "ΑΜΠΕΛΟΚΗΠΟΙ                          452\n",
      "ΚΟΛΩΝΑΚΙ                             425\n",
      "ΑΚΡΟΠΟΛΗ                             386\n",
      "Name: count, dtype: int64\n"
     ]
    }
   ],
   "source": [
    "listings_per_neighbourhood = listings['neighbourhood'].value_counts().sort_values(ascending=False)\n",
    "print(listings_per_neighbourhood[:10])"
   ]
  },
  {
   "cell_type": "markdown",
   "metadata": {},
   "source": [
    "By far the most popular area for listings seems to be the commercial triangle of Athens witch is defined as the central area of the Municipality of Athens enclosed by the road axes of Stadiou, Mitropoleos and Athena street. This is the area where most of the tourist attractions are located, so it makes sense that it is the most popular area for listings."
   ]
  },
  {
   "cell_type": "markdown",
   "metadata": {},
   "source": [
    "# Neighbourhood Prices in Descending Order\n",
    "\n",
    "Lets extract some metrics about neighbourhood prices. We will use the ```groupby()``` function to group the listings by neighbourhood and then perform aggregations on the price column. We will use the ```mean``` function of numpy to get the average price per neighbourhood, the ```meadian``` function to get the meadian price and the ```std``` and ```size``` to get the standard deviation and count of listings accordingly. We will also sort the results in descending order by median price.\n"
   ]
  },
  {
   "cell_type": "code",
   "execution_count": 7,
   "metadata": {},
   "outputs": [
    {
     "name": "stdout",
     "output_type": "stream",
     "text": [
      "                        median        mean         std  size\n",
      "neighbourhood                                               \n",
      "ΡΗΓΙΛΛΗΣ                 120.0  367.800000  578.622675     5\n",
      "ΖΑΠΠΕΙΟ                  114.0  224.068323  641.163173   161\n",
      "ΕΜΠΟΡΙΚΟ ΤΡΙΓΩΝΟ-ΠΛΑΚΑ   104.0  140.650662  229.183015  2416\n",
      "ΑΚΡΟΠΟΛΗ                 100.0  195.344560  703.321565   386\n",
      "ΚΟΛΩΝΑΚΙ                 100.0  128.595294  104.431349   425\n",
      "ΚΟΥΚΑΚΙ-ΜΑΚΡΥΓΙΑΝΝΗ       90.5  120.284314  104.613533  1122\n",
      "ΘΗΣΕΙΟ                    90.0  126.492228  124.176775   386\n",
      "ΚΕΡΑΜΕΙΚΟΣ                89.0  123.883382  136.367487   343\n",
      "ΛΥΚΑΒΗΤΤΟΣ                75.0  104.561728   87.859850   162\n",
      "ΓΚΑΖΙ                     70.5   95.792453   75.355882   106\n"
     ]
    }
   ],
   "source": [
    "listings_grouped_by_neighbourhood = listings.groupby('neighbourhood')\n",
    "neighbourhood_prices_metrics = listings_grouped_by_neighbourhood['price'].agg([np.median, np.mean, np.std, np.size])\n",
    "neighbourhood_prices_metrics = neighbourhood_prices_metrics.sort_values(by='median', ascending=False)\n",
    "print(neighbourhood_prices_metrics[:10])"
   ]
  },
  {
   "cell_type": "markdown",
   "metadata": {},
   "source": [
    "Despite the fact that the commercial triangle is the most popular area for listings, it is not the most expensive one. The most expensive neighbourhood by median price is Riglis Street."
   ]
  },
  {
   "cell_type": "markdown",
   "metadata": {},
   "source": [
    "## Availability per Day\n",
    "\n",
    "Lets see how many listings are available per day. We will use the calendar dataset that contains information about listing availability and prices throughout the year.\n",
    "<br>\n",
    "We load the dataset and take a quick look at the structure of the data."
   ]
  },
  {
   "cell_type": "code",
   "execution_count": 8,
   "metadata": {},
   "outputs": [
    {
     "data": {
      "text/html": [
       "<div>\n",
       "<style scoped>\n",
       "    .dataframe tbody tr th:only-of-type {\n",
       "        vertical-align: middle;\n",
       "    }\n",
       "\n",
       "    .dataframe tbody tr th {\n",
       "        vertical-align: top;\n",
       "    }\n",
       "\n",
       "    .dataframe thead th {\n",
       "        text-align: right;\n",
       "    }\n",
       "</style>\n",
       "<table border=\"1\" class=\"dataframe\">\n",
       "  <thead>\n",
       "    <tr style=\"text-align: right;\">\n",
       "      <th></th>\n",
       "      <th>listing_id</th>\n",
       "      <th>date</th>\n",
       "      <th>available</th>\n",
       "      <th>price</th>\n",
       "      <th>adjusted_price</th>\n",
       "      <th>minimum_nights</th>\n",
       "      <th>maximum_nights</th>\n",
       "    </tr>\n",
       "  </thead>\n",
       "  <tbody>\n",
       "    <tr>\n",
       "      <th>4064352</th>\n",
       "      <td>885199305046886551</td>\n",
       "      <td>2023-11-18</td>\n",
       "      <td>f</td>\n",
       "      <td>$60.00</td>\n",
       "      <td>$60.00</td>\n",
       "      <td>2</td>\n",
       "      <td>1125</td>\n",
       "    </tr>\n",
       "    <tr>\n",
       "      <th>2384758</th>\n",
       "      <td>51213024</td>\n",
       "      <td>2024-04-02</td>\n",
       "      <td>t</td>\n",
       "      <td>$65.00</td>\n",
       "      <td>$65.00</td>\n",
       "      <td>4</td>\n",
       "      <td>365</td>\n",
       "    </tr>\n",
       "    <tr>\n",
       "      <th>3862731</th>\n",
       "      <td>852889835627959151</td>\n",
       "      <td>2024-06-29</td>\n",
       "      <td>t</td>\n",
       "      <td>$48.00</td>\n",
       "      <td>$48.00</td>\n",
       "      <td>2</td>\n",
       "      <td>1125</td>\n",
       "    </tr>\n",
       "    <tr>\n",
       "      <th>2868463</th>\n",
       "      <td>615014461891377554</td>\n",
       "      <td>2024-06-21</td>\n",
       "      <td>f</td>\n",
       "      <td>$200.00</td>\n",
       "      <td>$200.00</td>\n",
       "      <td>1</td>\n",
       "      <td>365</td>\n",
       "    </tr>\n",
       "    <tr>\n",
       "      <th>1884233</th>\n",
       "      <td>41417813</td>\n",
       "      <td>2023-12-14</td>\n",
       "      <td>t</td>\n",
       "      <td>$48.00</td>\n",
       "      <td>$48.00</td>\n",
       "      <td>2</td>\n",
       "      <td>1125</td>\n",
       "    </tr>\n",
       "  </tbody>\n",
       "</table>\n",
       "</div>"
      ],
      "text/plain": [
       "                 listing_id        date available    price adjusted_price  \\\n",
       "4064352  885199305046886551  2023-11-18         f   $60.00         $60.00   \n",
       "2384758            51213024  2024-04-02         t   $65.00         $65.00   \n",
       "3862731  852889835627959151  2024-06-29         t   $48.00         $48.00   \n",
       "2868463  615014461891377554  2024-06-21         f  $200.00        $200.00   \n",
       "1884233            41417813  2023-12-14         t   $48.00         $48.00   \n",
       "\n",
       "         minimum_nights  maximum_nights  \n",
       "4064352               2            1125  \n",
       "2384758               4             365  \n",
       "3862731               2            1125  \n",
       "2868463               1             365  \n",
       "1884233               2            1125  "
      ]
     },
     "execution_count": 8,
     "metadata": {},
     "output_type": "execute_result"
    }
   ],
   "source": [
    "calendar = pd.read_csv('../data/calendar.csv')\n",
    "calendar.sample(5)"
   ]
  },
  {
   "cell_type": "markdown",
   "metadata": {},
   "source": [
    "We observe that availability is marked as a binary value, indicated by the t and f values.\n",
    "<br>\n",
    "We will filter for values that are equal to t and then group by date and count the number of listings available per day.\n",
    "<br>\n",
    "Replacing the t and f values with 1 and 0 respectively, would also be a good strategy, but considering that we are only interested in the number of listings available per day, it is not necessary."
   ]
  },
  {
   "cell_type": "markdown",
   "metadata": {},
   "source": [
    "What is needed however, is to convert the date column to a datetime object, so that we can better see the date on the x axis of the plot."
   ]
  },
  {
   "cell_type": "code",
   "execution_count": 9,
   "metadata": {},
   "outputs": [
    {
     "data": {
      "image/png": "[encoded data removed]",
      "text/plain": [
       "<Figure size 640x480 with 1 Axes>"
      ]
     },
     "metadata": {},
     "output_type": "display_data"
    }
   ],
   "source": [
    "calendar['date'] = pd.to_datetime(calendar['date'])\n",
    "x = calendar['date'].unique()\n",
    "y = calendar[calendar['available'] == 't'].groupby('date').size()\n",
    "_ = plt.plot(x, y)"
   ]
  },
  {
   "cell_type": "markdown",
   "metadata": {},
   "source": [
    "As we can see, considering we are looking of a snapshot of all listings from a particular day in the past, the larger the timeframe the more chances of finding an available listing. This is up to the point of around 6 months where uncertanty of the hosts about their availability starts to increase so the available listings are becoming more and more scarce.  "
   ]
  },
  {
   "cell_type": "markdown",
   "metadata": {},
   "source": [
    "## Reviews, Occupacy per Listing, Average Income\n"
   ]
  },
  {
   "cell_type": "markdown",
   "metadata": {},
   "source": [
    "Let's see some more facts about airbnb listings. First we will create a histogram to see the distribution of the number of reviews per listing. We will use the ```hist()``` function for this purpose."
   ]
  },
  {
   "cell_type": "code",
   "execution_count": 10,
   "metadata": {},
   "outputs": [
    {
     "data": {
      "image/png": "[encoded data removed]",
      "text/plain": [
       "<Figure size 640x480 with 1 Axes>"
      ]
     },
     "metadata": {},
     "output_type": "display_data"
    }
   ],
   "source": [
    "listing_reviews = listings['number_of_reviews']\n",
    "_ = listing_reviews.hist(bins=np.arange(min(listing_reviews), max(listing_reviews) + 100, 100), edgecolor='black')"
   ]
  },
  {
   "cell_type": "markdown",
   "metadata": {},
   "source": [
    "The vast majority of listings have less than 100 reviews. This indicates that most of listings are relatively new with the exception of some seasoned listing outliers reaching up to 600 reviews. We can also get an indicator that Airbnb is not actualy a popular choice for tourists in Athens assuming reviews are a sign of occupancy."
   ]
  },
  {
   "cell_type": "markdown",
   "metadata": {},
   "source": [
    "But how much do airbnb hosts earn? Lets try to find out by calculating the average income per month. \n",
    "<br>For that we are going to make some assumptions.\n",
    "1. We will assume that the number of reviews is a good indicator of occupancy.\n",
    "2. We will assume that the average occupancy per listing per month is double the reviews per month.\n",
    "3. We will assume that the average price per night is the global average price of the dataset\n",
    "4. Finally we will assume that each booking is for three nights stay.\n",
    "<br>"
   ]
  },
  {
   "cell_type": "code",
   "execution_count": 11,
   "metadata": {},
   "outputs": [
    {
     "name": "stdout",
     "output_type": "stream",
     "text": [
      "Average Occupacy: 3.591542867533412\n",
      "Average Income: 1190.1502553966434\n"
     ]
    }
   ],
   "source": [
    "avg_reviews_per_month = listings['reviews_per_month'].mean()\n",
    "avg_occupacy_per_month = avg_reviews_per_month * 2\n",
    "print(\"Average Occupacy: \" + str(avg_occupacy_per_month))\n",
    "avg_price = listings['price'].mean()\n",
    "avg_income_per_month = avg_occupacy_per_month * avg_price * 3\n",
    "print(\"Average Income: \" + str(avg_income_per_month))"
   ]
  },
  {
   "cell_type": "markdown",
   "metadata": {},
   "source": [
    "The average income is 1190 euros witch is about the national [average monthly salary](https://en.wikipedia.org/wiki/List_of_European_countries_by_average_wage)."
   ]
  },
  {
   "cell_type": "markdown",
   "metadata": {},
   "source": [
    "Next, we will calculate the number of listings per room type, in absolute numbers. We can easily do that via the ```value_counts()``` function. We will also calculate the percentage of listings per room type by passing the ```normalize=True``` parameter to the ```value_counts()``` function."
   ]
  },
  {
   "cell_type": "code",
   "execution_count": 12,
   "metadata": {},
   "outputs": [
    {
     "data": {
      "text/plain": [
       "room_type\n",
       "Entire home/apt    11652\n",
       "Private room        1113\n",
       "Hotel room           105\n",
       "Shared room           85\n",
       "Name: count, dtype: int64"
      ]
     },
     "execution_count": 12,
     "metadata": {},
     "output_type": "execute_result"
    }
   ],
   "source": [
    "listings['room_type'].value_counts()"
   ]
  },
  {
   "cell_type": "code",
   "execution_count": 13,
   "metadata": {},
   "outputs": [
    {
     "data": {
      "text/plain": [
       "room_type\n",
       "Entire home/apt    0.899421\n",
       "Private room       0.085913\n",
       "Hotel room         0.008105\n",
       "Shared room        0.006561\n",
       "Name: proportion, dtype: float64"
      ]
     },
     "execution_count": 13,
     "metadata": {},
     "output_type": "execute_result"
    }
   ],
   "source": [
    "listings['room_type'].value_counts(normalize=True)"
   ]
  },
  {
   "cell_type": "markdown",
   "metadata": {},
   "source": [
    "As we can see almost 90% of the listings are entire homes or apartments. This is a clear indication that Airbnb is not used by locals to rent out a spare room in their house but rather by landlords to rent out entire apartments."
   ]
  },
  {
   "cell_type": "markdown",
   "metadata": {},
   "source": [
    "## Listings per Room Type\n",
    "\n",
    "\n",
    "Next, we will calculate the listings per neighbourhood and room type. We will use the ```groupby()``` function to group the listings by neighbourhood and room type and take the count of each grouping dimension."
   ]
  },
  {
   "cell_type": "code",
   "execution_count": 14,
   "metadata": {},
   "outputs": [
    {
     "name": "stdout",
     "output_type": "stream",
     "text": [
      "neighbourhood                     room_type      \n",
      "1Ο ΝΕΚΡΟΤΑΦΕΙΟ                    Entire home/apt     55\n",
      "ΑΓΙΟΣ ΕΛΕΥΘΕΡΙΟΣ                  Entire home/apt     33\n",
      "                                  Private room         5\n",
      "ΑΓΙΟΣ ΚΩΝΣΤΑΝΤΙΝΟΣ-ΠΛΑΤΕΙΑ ΒΑΘΗΣ  Entire home/apt    686\n",
      "                                  Hotel room           4\n",
      "                                  Private room       117\n",
      "                                  Shared room         10\n",
      "ΑΓΙΟΣ ΝΙΚΟΛΑΟΣ                    Entire home/apt     91\n",
      "                                  Private room         8\n",
      "ΑΚΑΔΗΜΙΑ ΠΛΑΤΩΝΟΣ                 Entire home/apt     74\n",
      "dtype: int64\n"
     ]
    }
   ],
   "source": [
    "listings_per_neighbourhood_and_room_type = listings.groupby(['neighbourhood', 'room_type']).size()\n",
    "print(listings_per_neighbourhood_and_room_type[:10])"
   ]
  },
  {
   "cell_type": "markdown",
   "metadata": {},
   "source": [
    "## Prices per Day\n",
    "\n",
    "We can take a look at how the listing prices fluctuate throughout the year. We will use the calendar dataset for this purpose. We will group the listings by date and take the mean price per day."
   ]
  },
  {
   "cell_type": "markdown",
   "metadata": {},
   "source": [
    "A quick refresher on the structure of the calendar dataset."
   ]
  },
  {
   "cell_type": "code",
   "execution_count": 15,
   "metadata": {},
   "outputs": [
    {
     "data": {
      "text/html": [
       "<div>\n",
       "<style scoped>\n",
       "    .dataframe tbody tr th:only-of-type {\n",
       "        vertical-align: middle;\n",
       "    }\n",
       "\n",
       "    .dataframe tbody tr th {\n",
       "        vertical-align: top;\n",
       "    }\n",
       "\n",
       "    .dataframe thead th {\n",
       "        text-align: right;\n",
       "    }\n",
       "</style>\n",
       "<table border=\"1\" class=\"dataframe\">\n",
       "  <thead>\n",
       "    <tr style=\"text-align: right;\">\n",
       "      <th></th>\n",
       "      <th>listing_id</th>\n",
       "      <th>date</th>\n",
       "      <th>available</th>\n",
       "      <th>price</th>\n",
       "      <th>adjusted_price</th>\n",
       "      <th>minimum_nights</th>\n",
       "      <th>maximum_nights</th>\n",
       "    </tr>\n",
       "  </thead>\n",
       "  <tbody>\n",
       "    <tr>\n",
       "      <th>2437818</th>\n",
       "      <td>51577214</td>\n",
       "      <td>2024-08-15</td>\n",
       "      <td>t</td>\n",
       "      <td>$55.00</td>\n",
       "      <td>$55.00</td>\n",
       "      <td>2</td>\n",
       "      <td>1125</td>\n",
       "    </tr>\n",
       "    <tr>\n",
       "      <th>1933242</th>\n",
       "      <td>42211651</td>\n",
       "      <td>2024-03-22</td>\n",
       "      <td>t</td>\n",
       "      <td>$30.00</td>\n",
       "      <td>$30.00</td>\n",
       "      <td>2</td>\n",
       "      <td>1125</td>\n",
       "    </tr>\n",
       "    <tr>\n",
       "      <th>2678981</th>\n",
       "      <td>516391527649507518</td>\n",
       "      <td>2024-05-05</td>\n",
       "      <td>t</td>\n",
       "      <td>$110.00</td>\n",
       "      <td>$110.00</td>\n",
       "      <td>2</td>\n",
       "      <td>365</td>\n",
       "    </tr>\n",
       "    <tr>\n",
       "      <th>4403342</th>\n",
       "      <td>926268509935218962</td>\n",
       "      <td>2024-08-14</td>\n",
       "      <td>t</td>\n",
       "      <td>$65.00</td>\n",
       "      <td>$65.00</td>\n",
       "      <td>2</td>\n",
       "      <td>365</td>\n",
       "    </tr>\n",
       "    <tr>\n",
       "      <th>1223537</th>\n",
       "      <td>30926888</td>\n",
       "      <td>2023-10-29</td>\n",
       "      <td>t</td>\n",
       "      <td>$266.00</td>\n",
       "      <td>$266.00</td>\n",
       "      <td>1</td>\n",
       "      <td>5</td>\n",
       "    </tr>\n",
       "  </tbody>\n",
       "</table>\n",
       "</div>"
      ],
      "text/plain": [
       "                 listing_id       date available    price adjusted_price  \\\n",
       "2437818            51577214 2024-08-15         t   $55.00         $55.00   \n",
       "1933242            42211651 2024-03-22         t   $30.00         $30.00   \n",
       "2678981  516391527649507518 2024-05-05         t  $110.00        $110.00   \n",
       "4403342  926268509935218962 2024-08-14         t   $65.00         $65.00   \n",
       "1223537            30926888 2023-10-29         t  $266.00        $266.00   \n",
       "\n",
       "         minimum_nights  maximum_nights  \n",
       "2437818               2            1125  \n",
       "1933242               2            1125  \n",
       "2678981               2             365  \n",
       "4403342               2             365  \n",
       "1223537               1               5  "
      ]
     },
     "execution_count": 15,
     "metadata": {},
     "output_type": "execute_result"
    }
   ],
   "source": [
    "calendar.sample(5)"
   ]
  },
  {
   "cell_type": "markdown",
   "metadata": {},
   "source": [
    "But first we have to do some cleaning. As we can see from the sample, the price column contains dollar signs and commas. We will remove them and convert the column to float. The date column is already in datetime format so we are good to go."
   ]
  },
  {
   "cell_type": "code",
   "execution_count": 16,
   "metadata": {},
   "outputs": [],
   "source": [
    "calendar['price'] = calendar['price'].str.replace('$', '')\n",
    "calendar['price'] = calendar['price'].str.replace(',', '.')\n",
    "calendar['price'] = calendar['price'].str.replace('.00', '')\n",
    "calendar['price'] = calendar['price'].astype(float)"
   ]
  },
  {
   "cell_type": "markdown",
   "metadata": {},
   "source": [
    "After that we can group by date and calculate the mean price across all listings for each date."
   ]
  },
  {
   "cell_type": "code",
   "execution_count": 17,
   "metadata": {},
   "outputs": [
    {
     "data": {
      "image/png": "[encoded data removed]",
      "text/plain": [
       "<Figure size 1500x500 with 1 Axes>"
      ]
     },
     "metadata": {},
     "output_type": "display_data"
    }
   ],
   "source": [
    "calendar_grouped_by_date = calendar.groupby('date')\n",
    "\n",
    "calendar_mean_price = calendar_grouped_by_date['price'].mean()\n",
    "\n",
    "_ = calendar_mean_price.plot(figsize=(15, 5), title='Average price per day', linewidth=1.5, xlabel='Date', ylabel='Price')"
   ]
  },
  {
   "cell_type": "markdown",
   "metadata": {},
   "source": [
    "Again, as expected, the prices are higher during the summer months and lower during the winter months with the exception of the Christmas period where a big peak is visible."
   ]
  },
  {
   "cell_type": "markdown",
   "metadata": {},
   "source": [
    "## Listings per Host\n",
    "We will now visualize the listings each host has. This will give us an indication of how many listings are managed by professional hosts. We will use the ```value_counts()``` function on the host_id column to get the number of listings per host and then we will use the ```scatter()``` function to plot the results."
   ]
  },
  {
   "cell_type": "markdown",
   "metadata": {},
   "source": [
    "We will sort the results in descending order by number of listings such as a point $(x, y)$ will mean that the $x$-th highest hosting host has $y$ listings."
   ]
  },
  {
   "cell_type": "markdown",
   "metadata": {},
   "source": [
    "To better visualize the results each point is colored by the spatial density of nearby points, with brighter colors meaning higher density."
   ]
  },
  {
   "cell_type": "code",
   "execution_count": 18,
   "metadata": {},
   "outputs": [],
   "source": [
    "from scipy.stats import gaussian_kde"
   ]
  },
  {
   "cell_type": "code",
   "execution_count": 19,
   "metadata": {},
   "outputs": [
    {
     "data": {
      "image/png": "[encoded data removed]",
      "text/plain": [
       "<Figure size 640x480 with 1 Axes>"
      ]
     },
     "metadata": {},
     "output_type": "display_data"
    }
   ],
   "source": [
    "host_listings_sorted = listings['host_id'].value_counts().sort_values(ascending=False)\n",
    "x = np.arange(1, len(host_listings_sorted) + 1)\n",
    "y = host_listings_sorted.values\n",
    "xy = np.vstack([x,y])\n",
    "z = gaussian_kde(xy)(xy)\n",
    "_ = plt.scatter(x, y, marker='x', c=z , s=20, alpha=0.5)"
   ]
  },
  {
   "cell_type": "markdown",
   "metadata": {},
   "source": [
    "The graph is descending rapidly. In that case we can use a logarithmic scale to better visualize the results."
   ]
  },
  {
   "cell_type": "code",
   "execution_count": 20,
   "metadata": {},
   "outputs": [
    {
     "data": {
      "image/png": "[encoded data removed]",
      "text/plain": [
       "<Figure size 640x480 with 1 Axes>"
      ]
     },
     "metadata": {},
     "output_type": "display_data"
    }
   ],
   "source": [
    "x = np.arange(1, len(host_listings_sorted) + 1)\n",
    "x = np.log(x)\n",
    "y = host_listings_sorted.values\n",
    "xy = np.vstack([x,y])\n",
    "z = gaussian_kde(xy)(xy)\n",
    "_ = plt.scatter(x, y, marker='x', c=z , s=20)"
   ]
  },
  {
   "cell_type": "markdown",
   "metadata": {},
   "source": [
    "Both graphs indicate that the vast majority of hosts have close to one listing but a non negligible number of hosts have more than 10 listings. For that reason, we can assume that a lot of property power is concentrated in the hands of a few professional hosts."
   ]
  },
  {
   "cell_type": "markdown",
   "metadata": {},
   "source": [
    "## Visualize Listings\n",
    "\n",
    "Lastly, we can visualize the listings on an interactive map. We will use the folium library for this purpose. We will create a map centered on Athens and then we will add a marker for each listing. We will also add a popup with basic information about the listing."
   ]
  },
  {
   "cell_type": "code",
   "execution_count": 21,
   "metadata": {},
   "outputs": [],
   "source": [
    "import folium as fl"
   ]
  },
  {
   "cell_type": "code",
   "execution_count": 22,
   "metadata": {},
   "outputs": [],
   "source": [
    "# Get the coordinates of a sample listing as a starting point\n",
    "sample_listing = listings.sample(1)\n",
    "sample_listing_latitude = sample_listing['latitude'].values[0]\n",
    "sample_listing_longitude = sample_listing['longitude'].values[0]\n",
    "\n",
    "# Create a map with the sample listing as a starting point\n",
    "ath_map = fl.Map(location=[sample_listing_latitude, sample_listing_longitude], zoom_start=12, max_zoom=15)\n",
    "\n",
    "# Loop through each row in the dataframe\n",
    "for i,row in listings.iterrows():\n",
    "\n",
    "    # Create the html for the popup\n",
    "    html = f\"\"\"<h3>{row['name']}</h3>\n",
    "\n",
    "    <div>\n",
    "        <p><strong>Host:</strong>{row['host_name']}</p>\n",
    "        <p><strong>Neighbourhood:</strong> {row['neighbourhood']}</p>\n",
    "        <p><strong>Room Type:</strong> {row['room_type']}</p>\n",
    "        <p><strong>Price:</strong> {row['price']} €</p>\n",
    "        <p><strong>Minimum Nights:</strong> {row['minimum_nights']}</p>\n",
    "        <p><strong>Number of Reviews:</strong> {row['number_of_reviews']}</p>\n",
    "    </div>\n",
    "    \"\"\"\n",
    "    # Setup the content of the popup\n",
    "    iframe = fl.IFrame(html=html)\n",
    "    \n",
    "    # Initialise the popup using the iframe\n",
    "    popup = fl.Popup(iframe, min_width=300, max_width=300)\n",
    "    \n",
    "    # Add each row to the map\n",
    "    fl.Marker(location=[row['latitude'],row['longitude']],\n",
    "                  popup = popup).add_to(ath_map)\n",
    "\n",
    "# Save the map\n",
    "ath_map.save('index.html')"
   ]
  }
 ],
 "metadata": {
  "kernelspec": {
   "display_name": "Python 3",
   "language": "python",
   "name": "python3"
  },
  "language_info": {
   "codemirror_mode": {
    "name": "ipython",
    "version": 3
   },
   "file_extension": ".py",
   "mimetype": "text/x-python",
   "name": "python",
   "nbconvert_exporter": "python",
   "pygments_lexer": "ipython3",
   "version": "3.10.12"
  }
 },
 "nbformat": 4,
 "nbformat_minor": 2
}
