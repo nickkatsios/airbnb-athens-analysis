{
 "cells": [
  {
   "cell_type": "code",
   "execution_count": 4,
   "metadata": {},
   "outputs": [],
   "source": [
    "import numpy as np\n",
    "import pandas as pd\n",
    "import matplotlib.pyplot as plt"
   ]
  },
  {
   "cell_type": "code",
   "execution_count": 5,
   "metadata": {},
   "outputs": [],
   "source": [
    "listings = pd.read_csv('../data/listings.csv')"
   ]
  },
  {
   "cell_type": "code",
   "execution_count": 6,
   "metadata": {},
   "outputs": [
    {
     "name": "stdout",
     "output_type": "stream",
     "text": [
      "Index(['id', 'name', 'host_id', 'host_name', 'neighbourhood_group',\n",
      "       'neighbourhood', 'latitude', 'longitude', 'room_type', 'price',\n",
      "       'minimum_nights', 'number_of_reviews', 'last_review',\n",
      "       'reviews_per_month', 'calculated_host_listings_count',\n",
      "       'availability_365', 'number_of_reviews_ltm', 'license'],\n",
      "      dtype='object')\n"
     ]
    }
   ],
   "source": [
    "columns = listings.columns\n",
    "print(columns)"
   ]
  },
  {
   "cell_type": "code",
   "execution_count": 7,
   "metadata": {},
   "outputs": [
    {
     "name": "stdout",
     "output_type": "stream",
     "text": [
      "neighbourhood\n",
      "ΕΜΠΟΡΙΚΟ ΤΡΙΓΩΝΟ-ΠΛΑΚΑ              2416\n",
      "ΚΟΥΚΑΚΙ-ΜΑΚΡΥΓΙΑΝΝΗ                 1122\n",
      "ΝΕΟΣ ΚΟΣΜΟΣ                          980\n",
      "ΜΟΥΣΕΙΟ-ΕΞΑΡΧΕΙΑ-ΝΕΑΠΟΛΗ             979\n",
      "ΑΓΙΟΣ ΚΩΝΣΤΑΝΤΙΝΟΣ-ΠΛΑΤΕΙΑ ΒΑΘΗΣ     817\n",
      "ΠΛΑΤΕΙΑ ΑΤΤΙΚΗΣ                      583\n",
      "ΠΑΓΚΡΑΤΙ                             511\n",
      "ΑΜΠΕΛΟΚΗΠΟΙ                          452\n",
      "ΚΟΛΩΝΑΚΙ                             425\n",
      "ΑΚΡΟΠΟΛΗ                             386\n",
      "ΘΗΣΕΙΟ                               386\n",
      "ΠΕΤΡΑΛΩΝΑ                            352\n",
      "ΚΕΡΑΜΕΙΚΟΣ                           343\n",
      "ΚΥΨΕΛΗ                               271\n",
      "ΣΤΑΔΙΟ                               252\n",
      "ΓΟΥΔΙ                                230\n",
      "ΙΛΙΣΙΑ                               216\n",
      "ΠΛΑΤΕΙΑ ΑΜΕΡΙΚΗΣ                     180\n",
      "ΝΙΡΒΑΝΑ                              174\n",
      "ΠΑΤΗΣΙΑ                              166\n",
      "ΛΥΚΑΒΗΤΤΟΣ                           162\n",
      "ΖΑΠΠΕΙΟ                              161\n",
      "ΑΝΩ ΚΥΨΕΛΗ                           119\n",
      "ΓΚΥΖΗ                                118\n",
      "ΠΕΔΙΟ ΑΡΕΩΣ                          109\n",
      "ΚΟΛΩΝΟΣ                              108\n",
      "ΓΚΑΖΙ                                106\n",
      "ΑΓΙΟΣ ΝΙΚΟΛΑΟΣ                        99\n",
      "ΣΤΑΘΜΟΣ ΛΑΡΙΣΗΣ                       85\n",
      "ΒΟΤΑΝΙΚΟΣ                             80\n",
      "ΑΚΑΔΗΜΙΑ ΠΛΑΤΩΝΟΣ                     76\n",
      "ΓΟΥΒΑ                                 75\n",
      "ΕΛΛΗΝΟΡΩΣΩΝ                           73\n",
      "ΑΝΩ ΠΑΤΗΣΙΑ                           64\n",
      "ΝΕΑ ΚΥΨΕΛΗ                            64\n",
      "1Ο ΝΕΚΡΟΤΑΦΕΙΟ                        55\n",
      "ΣΕΠΟΛΙΑ                               45\n",
      "ΑΓΙΟΣ ΕΛΕΥΘΕΡΙΟΣ                      38\n",
      "ΠΟΛΥΓΩΝΟ                              29\n",
      "ΚΟΛΟΚΥΝΘΟΥ                            16\n",
      "ΡΙΖΟΥΠΟΛΗ                             13\n",
      "ΠΡΟΜΠΟΝΑ                              12\n",
      "ΡΗΓΙΛΛΗΣ                               5\n",
      "ΠΕΝΤΑΓΩΝΟ                              2\n",
      "Name: count, dtype: int64\n"
     ]
    }
   ],
   "source": [
    "# Show the listings per neighbourghood, with the most popular neighbourhoods first\n",
    "# (that is, in decreasing neighbourhood popularity order).\n",
    "listings_per_neighbourhood = listings['neighbourhood'].value_counts()\n",
    "print(listings_per_neighbourhood)"
   ]
  },
  {
   "cell_type": "code",
   "execution_count": 8,
   "metadata": {},
   "outputs": [
    {
     "name": "stdout",
     "output_type": "stream",
     "text": [
      "                                  median        mean          std  size\n",
      "neighbourhood                                                          \n",
      "ΡΗΓΙΛΛΗΣ                           120.0  367.800000   578.622675     5\n",
      "ΖΑΠΠΕΙΟ                            114.0  224.068323   641.163173   161\n",
      "ΕΜΠΟΡΙΚΟ ΤΡΙΓΩΝΟ-ΠΛΑΚΑ             104.0  140.650662   229.183015  2416\n",
      "ΑΚΡΟΠΟΛΗ                           100.0  195.344560   703.321565   386\n",
      "ΚΟΛΩΝΑΚΙ                           100.0  128.595294   104.431349   425\n",
      "ΚΟΥΚΑΚΙ-ΜΑΚΡΥΓΙΑΝΝΗ                 90.5  120.284314   104.613533  1122\n",
      "ΘΗΣΕΙΟ                              90.0  126.492228   124.176775   386\n",
      "ΚΕΡΑΜΕΙΚΟΣ                          89.0  123.883382   136.367487   343\n",
      "ΛΥΚΑΒΗΤΤΟΣ                          75.0  104.561728    87.859850   162\n",
      "ΓΚΑΖΙ                               70.5   95.792453    75.355882   106\n",
      "ΣΤΑΔΙΟ                              70.0  121.515873   509.991840   252\n",
      "ΙΛΙΣΙΑ                              70.0   87.189815    53.519013   216\n",
      "ΜΟΥΣΕΙΟ-ΕΞΑΡΧΕΙΑ-ΝΕΑΠΟΛΗ            67.0  169.259448  2563.621548   979\n",
      "ΝΕΟΣ ΚΟΣΜΟΣ                         67.0   94.586735   127.407374   980\n",
      "ΠΑΓΚΡΑΤΙ                            67.0   84.062622    92.218241   511\n",
      "ΠΕΤΡΑΛΩΝΑ                           66.5  104.701705   285.518630   352\n",
      "1Ο ΝΕΚΡΟΤΑΦΕΙΟ                      61.0   98.818182    92.281191    55\n",
      "ΕΛΛΗΝΟΡΩΣΩΝ                         60.0   81.589041    72.727390    73\n",
      "ΒΟΤΑΝΙΚΟΣ                           60.0   78.200000    48.042281    80\n",
      "ΓΟΥΒΑ                               58.0   72.240000    83.506245    75\n",
      "ΑΜΠΕΛΟΚΗΠΟΙ                         58.0   66.915929    39.297399   452\n",
      "ΑΓΙΟΣ ΚΩΝΣΤΑΝΤΙΝΟΣ-ΠΛΑΤΕΙΑ ΒΑΘΗΣ    58.0   78.155447    73.453460   817\n",
      "ΓΟΥΔΙ                               58.0   68.952174    37.039603   230\n",
      "ΠΡΟΜΠΟΝΑ                            57.0   60.833333    27.511430    12\n",
      "ΠΕΔΙΟ ΑΡΕΩΣ                         56.0  148.137615   761.697707   109\n",
      "ΣΕΠΟΛΙΑ                             55.0   77.422222   150.067332    45\n",
      "ΝΕΑ ΚΥΨΕΛΗ                          50.0   56.453125    28.871873    64\n",
      "ΣΤΑΘΜΟΣ ΛΑΡΙΣΗΣ                     50.0   61.564706    58.615870    85\n",
      "ΚΥΨΕΛΗ                              50.0   62.656827    58.884856   271\n",
      "ΑΚΑΔΗΜΙΑ ΠΛΑΤΩΝΟΣ                   50.0   79.934211   163.926596    76\n",
      "ΠΛΑΤΕΙΑ ΑΤΤΙΚΗΣ                     48.0   64.116638    74.498484   583\n",
      "ΑΝΩ ΠΑΤΗΣΙΑ                         48.0   56.078125    29.493774    64\n",
      "ΚΟΛΩΝΟΣ                             47.0   51.888889    21.263955   108\n",
      "ΠΕΝΤΑΓΩΝΟ                           46.0   46.000000     1.414214     2\n",
      "ΠΑΤΗΣΙΑ                             45.0   60.524096   117.601314   166\n",
      "ΠΟΛΥΓΩΝΟ                            45.0   54.310345    26.467100    29\n",
      "ΑΓΙΟΣ ΝΙΚΟΛΑΟΣ                      45.0   53.202020    32.861484    99\n",
      "ΓΚΥΖΗ                               44.5   52.033898    42.301913   118\n",
      "ΠΛΑΤΕΙΑ ΑΜΕΡΙΚΗΣ                    44.0   52.500000    37.479603   180\n",
      "ΡΙΖΟΥΠΟΛΗ                           44.0   52.538462    22.096815    13\n",
      "ΚΟΛΟΚΥΝΘΟΥ                          43.0   43.937500     9.532182    16\n",
      "ΝΙΡΒΑΝΑ                             42.0   53.045977    39.449070   174\n",
      "ΑΝΩ ΚΥΨΕΛΗ                          42.0   45.932773    23.316078   119\n",
      "ΑΓΙΟΣ ΕΛΕΥΘΕΡΙΟΣ                    41.5   43.736842    17.408734    38\n"
     ]
    }
   ],
   "source": [
    "## Neighbourhood Prices in Descending Order\n",
    "\n",
    "# Create a table with the prices per neighbourhood. The prices information should contain:\n",
    "\n",
    "# * median price per neighbourhood\n",
    "\n",
    "# * mean price per neighbourhood\n",
    "\n",
    "# * standard deviation per neighbourhood\n",
    "\n",
    "# * number of listings per neighbourhood.\n",
    "\n",
    "# The contents of the table should be in descending median prices.\n",
    "\n",
    "listings_grouped_by_neighbourhood = listings.groupby('neighbourhood')\n",
    "neighbourhood_prices = listings_grouped_by_neighbourhood['price'].agg([np.median, np.mean, np.std, np.size])\n",
    "neighbourhood_prices = neighbourhood_prices.sort_values(by='median', ascending=False)\n",
    "print(neighbourhood_prices)"
   ]
  },
  {
   "cell_type": "code",
   "execution_count": 17,
   "metadata": {},
   "outputs": [
    {
     "data": {
      "image/png": "[encoded data removed]",
      "text/plain": [
       "<Figure size 640x480 with 1 Axes>"
      ]
     },
     "metadata": {},
     "output_type": "display_data"
    }
   ],
   "source": [
    "# Create a plot with the number of listings available per day, on the $y$ axis, and the date, on the $x$ axis.\n",
    "x = np.linspace(0,366,366)\n",
    "y = listings['availability_365'].value_counts()\n",
    "_ = plt.plot(x,y)"
   ]
  }
 ],
 "metadata": {
  "kernelspec": {
   "display_name": "Python 3",
   "language": "python",
   "name": "python3"
  },
  "language_info": {
   "codemirror_mode": {
    "name": "ipython",
    "version": 3
   },
   "file_extension": ".py",
   "mimetype": "text/x-python",
   "name": "python",
   "nbconvert_exporter": "python",
   "pygments_lexer": "ipython3",
   "version": "3.10.12"
  }
 },
 "nbformat": 4,
 "nbformat_minor": 2
}
