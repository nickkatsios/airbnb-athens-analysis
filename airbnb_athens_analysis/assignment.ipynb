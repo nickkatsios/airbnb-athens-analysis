{
 "cells": [
  {
   "cell_type": "markdown",
   "metadata": {},
   "source": [
    "# Exploring AirBnb In Athens"
   ]
  },
  {
   "cell_type": "markdown",
   "metadata": {},
   "source": [
    "First, we import the necessary libraries and read the data. \n"
   ]
  },
  {
   "cell_type": "code",
   "execution_count": 1,
   "metadata": {},
   "outputs": [],
   "source": [
    "import numpy as np\n",
    "import pandas as pd\n",
    "import matplotlib.pyplot as plt"
   ]
  },
  {
   "cell_type": "markdown",
   "metadata": {},
   "source": [
    "We will primarily use the listings.csv file, which contains information about the listings in Athens."
   ]
  },
  {
   "cell_type": "code",
   "execution_count": 2,
   "metadata": {},
   "outputs": [],
   "source": [
    "listings = pd.read_csv('../data/listings.csv')"
   ]
  },
  {
   "cell_type": "markdown",
   "metadata": {},
   "source": [
    "Lets perform a quick check to examine the available columns"
   ]
  },
  {
   "cell_type": "code",
   "execution_count": 140,
   "metadata": {},
   "outputs": [
    {
     "data": {
      "text/plain": [
       "Index(['id', 'name', 'host_id', 'host_name', 'neighbourhood_group',\n",
       "       'neighbourhood', 'latitude', 'longitude', 'room_type', 'price',\n",
       "       'minimum_nights', 'number_of_reviews', 'last_review',\n",
       "       'reviews_per_month', 'calculated_host_listings_count',\n",
       "       'availability_365', 'number_of_reviews_ltm', 'license'],\n",
       "      dtype='object')"
      ]
     },
     "execution_count": 140,
     "metadata": {},
     "output_type": "execute_result"
    }
   ],
   "source": [
    "listings.columns"
   ]
  },
  {
   "cell_type": "markdown",
   "metadata": {},
   "source": [
    "And another one to get a sample of the data, we will use the sample() function for this purpose and select 5 random rows."
   ]
  },
  {
   "cell_type": "code",
   "execution_count": 142,
   "metadata": {},
   "outputs": [
    {
     "data": {
      "text/html": [
       "<div>\n",
       "<style scoped>\n",
       "    .dataframe tbody tr th:only-of-type {\n",
       "        vertical-align: middle;\n",
       "    }\n",
       "\n",
       "    .dataframe tbody tr th {\n",
       "        vertical-align: top;\n",
       "    }\n",
       "\n",
       "    .dataframe thead th {\n",
       "        text-align: right;\n",
       "    }\n",
       "</style>\n",
       "<table border=\"1\" class=\"dataframe\">\n",
       "  <thead>\n",
       "    <tr style=\"text-align: right;\">\n",
       "      <th></th>\n",
       "      <th>id</th>\n",
       "      <th>name</th>\n",
       "      <th>host_id</th>\n",
       "      <th>host_name</th>\n",
       "      <th>neighbourhood_group</th>\n",
       "      <th>neighbourhood</th>\n",
       "      <th>latitude</th>\n",
       "      <th>longitude</th>\n",
       "      <th>room_type</th>\n",
       "      <th>price</th>\n",
       "      <th>minimum_nights</th>\n",
       "      <th>number_of_reviews</th>\n",
       "      <th>last_review</th>\n",
       "      <th>reviews_per_month</th>\n",
       "      <th>calculated_host_listings_count</th>\n",
       "      <th>availability_365</th>\n",
       "      <th>number_of_reviews_ltm</th>\n",
       "      <th>license</th>\n",
       "    </tr>\n",
       "  </thead>\n",
       "  <tbody>\n",
       "    <tr>\n",
       "      <th>9579</th>\n",
       "      <td>772400406203655456</td>\n",
       "      <td>Rental unit in Athina · ★4.71 · 1 bedroom · 1 ...</td>\n",
       "      <td>20115840</td>\n",
       "      <td>Mirka</td>\n",
       "      <td>NaN</td>\n",
       "      <td>ΜΟΥΣΕΙΟ-ΕΞΑΡΧΕΙΑ-ΝΕΑΠΟΛΗ</td>\n",
       "      <td>37.986025</td>\n",
       "      <td>23.740484</td>\n",
       "      <td>Entire home/apt</td>\n",
       "      <td>42</td>\n",
       "      <td>2</td>\n",
       "      <td>17</td>\n",
       "      <td>2023-09-13</td>\n",
       "      <td>2.51</td>\n",
       "      <td>1</td>\n",
       "      <td>314</td>\n",
       "      <td>17</td>\n",
       "      <td>01176694160</td>\n",
       "    </tr>\n",
       "    <tr>\n",
       "      <th>8453</th>\n",
       "      <td>658659694044821149</td>\n",
       "      <td>Rental unit in Athina · ★4.0 · 1 bedroom · 1 b...</td>\n",
       "      <td>40921063</td>\n",
       "      <td>Gerhard</td>\n",
       "      <td>NaN</td>\n",
       "      <td>ΠΑΤΗΣΙΑ</td>\n",
       "      <td>38.010020</td>\n",
       "      <td>23.736840</td>\n",
       "      <td>Private room</td>\n",
       "      <td>16</td>\n",
       "      <td>3</td>\n",
       "      <td>3</td>\n",
       "      <td>2023-02-25</td>\n",
       "      <td>0.24</td>\n",
       "      <td>33</td>\n",
       "      <td>324</td>\n",
       "      <td>2</td>\n",
       "      <td>00001628488</td>\n",
       "    </tr>\n",
       "    <tr>\n",
       "      <th>7953</th>\n",
       "      <td>619963176661071970</td>\n",
       "      <td>Loft in Athina · ★4.86 · 2 bedrooms · 2 beds ·...</td>\n",
       "      <td>457555537</td>\n",
       "      <td>Christina</td>\n",
       "      <td>NaN</td>\n",
       "      <td>ΕΜΠΟΡΙΚΟ ΤΡΙΓΩΝΟ-ΠΛΑΚΑ</td>\n",
       "      <td>37.979890</td>\n",
       "      <td>23.724830</td>\n",
       "      <td>Entire home/apt</td>\n",
       "      <td>120</td>\n",
       "      <td>2</td>\n",
       "      <td>76</td>\n",
       "      <td>2023-09-11</td>\n",
       "      <td>4.61</td>\n",
       "      <td>1</td>\n",
       "      <td>224</td>\n",
       "      <td>46</td>\n",
       "      <td>00001525550</td>\n",
       "    </tr>\n",
       "    <tr>\n",
       "      <th>9311</th>\n",
       "      <td>747160186597268965</td>\n",
       "      <td>Condo in Athina · ★4.50 · 1 bedroom · 1 bed · ...</td>\n",
       "      <td>90390850</td>\n",
       "      <td>Evan&amp;Anetta</td>\n",
       "      <td>NaN</td>\n",
       "      <td>ΑΜΠΕΛΟΚΗΠΟΙ</td>\n",
       "      <td>37.983832</td>\n",
       "      <td>23.756194</td>\n",
       "      <td>Entire home/apt</td>\n",
       "      <td>65</td>\n",
       "      <td>1</td>\n",
       "      <td>28</td>\n",
       "      <td>2023-09-02</td>\n",
       "      <td>2.82</td>\n",
       "      <td>78</td>\n",
       "      <td>157</td>\n",
       "      <td>28</td>\n",
       "      <td>00001814004</td>\n",
       "    </tr>\n",
       "    <tr>\n",
       "      <th>4177</th>\n",
       "      <td>35178793</td>\n",
       "      <td>Loft in Athina · ★4.91 · 1 bedroom · 1 bed · 1...</td>\n",
       "      <td>147148054</td>\n",
       "      <td>Giannis</td>\n",
       "      <td>NaN</td>\n",
       "      <td>ΝΕΟΣ ΚΟΣΜΟΣ</td>\n",
       "      <td>37.965320</td>\n",
       "      <td>23.731800</td>\n",
       "      <td>Entire home/apt</td>\n",
       "      <td>213</td>\n",
       "      <td>1</td>\n",
       "      <td>384</td>\n",
       "      <td>2023-09-16</td>\n",
       "      <td>7.66</td>\n",
       "      <td>11</td>\n",
       "      <td>335</td>\n",
       "      <td>91</td>\n",
       "      <td>00000695883</td>\n",
       "    </tr>\n",
       "  </tbody>\n",
       "</table>\n",
       "</div>"
      ],
      "text/plain": [
       "                      id                                               name   \n",
       "9579  772400406203655456  Rental unit in Athina · ★4.71 · 1 bedroom · 1 ...  \\\n",
       "8453  658659694044821149  Rental unit in Athina · ★4.0 · 1 bedroom · 1 b...   \n",
       "7953  619963176661071970  Loft in Athina · ★4.86 · 2 bedrooms · 2 beds ·...   \n",
       "9311  747160186597268965  Condo in Athina · ★4.50 · 1 bedroom · 1 bed · ...   \n",
       "4177            35178793  Loft in Athina · ★4.91 · 1 bedroom · 1 bed · 1...   \n",
       "\n",
       "        host_id    host_name  neighbourhood_group             neighbourhood   \n",
       "9579   20115840        Mirka                  NaN  ΜΟΥΣΕΙΟ-ΕΞΑΡΧΕΙΑ-ΝΕΑΠΟΛΗ  \\\n",
       "8453   40921063      Gerhard                  NaN                   ΠΑΤΗΣΙΑ   \n",
       "7953  457555537    Christina                  NaN    ΕΜΠΟΡΙΚΟ ΤΡΙΓΩΝΟ-ΠΛΑΚΑ   \n",
       "9311   90390850  Evan&Anetta                  NaN               ΑΜΠΕΛΟΚΗΠΟΙ   \n",
       "4177  147148054      Giannis                  NaN               ΝΕΟΣ ΚΟΣΜΟΣ   \n",
       "\n",
       "       latitude  longitude        room_type  price  minimum_nights   \n",
       "9579  37.986025  23.740484  Entire home/apt     42               2  \\\n",
       "8453  38.010020  23.736840     Private room     16               3   \n",
       "7953  37.979890  23.724830  Entire home/apt    120               2   \n",
       "9311  37.983832  23.756194  Entire home/apt     65               1   \n",
       "4177  37.965320  23.731800  Entire home/apt    213               1   \n",
       "\n",
       "      number_of_reviews last_review  reviews_per_month   \n",
       "9579                 17  2023-09-13               2.51  \\\n",
       "8453                  3  2023-02-25               0.24   \n",
       "7953                 76  2023-09-11               4.61   \n",
       "9311                 28  2023-09-02               2.82   \n",
       "4177                384  2023-09-16               7.66   \n",
       "\n",
       "      calculated_host_listings_count  availability_365  number_of_reviews_ltm   \n",
       "9579                               1               314                     17  \\\n",
       "8453                              33               324                      2   \n",
       "7953                               1               224                     46   \n",
       "9311                              78               157                     28   \n",
       "4177                              11               335                     91   \n",
       "\n",
       "          license  \n",
       "9579  01176694160  \n",
       "8453  00001628488  \n",
       "7953  00001525550  \n",
       "9311  00001814004  \n",
       "4177  00000695883  "
      ]
     },
     "execution_count": 142,
     "metadata": {},
     "output_type": "execute_result"
    }
   ],
   "source": [
    "listings.sample(5)"
   ]
  },
  {
   "cell_type": "markdown",
   "metadata": {},
   "source": [
    "# Listings Per Neighbourhood\n",
    "\n",
    "Lets see how many listings are available per neighbourhood. We will use the ```value_counts()``` function on the neighbourhoods column for that.\n",
    "<br>\n",
    "We ensure that the results are sorted in descending popularity order by using the ```sort_values()``` function."
   ]
  },
  {
   "cell_type": "code",
   "execution_count": 143,
   "metadata": {},
   "outputs": [
    {
     "name": "stdout",
     "output_type": "stream",
     "text": [
      "neighbourhood\n",
      "ΕΜΠΟΡΙΚΟ ΤΡΙΓΩΝΟ-ΠΛΑΚΑ              2416\n",
      "ΚΟΥΚΑΚΙ-ΜΑΚΡΥΓΙΑΝΝΗ                 1122\n",
      "ΝΕΟΣ ΚΟΣΜΟΣ                          980\n",
      "ΜΟΥΣΕΙΟ-ΕΞΑΡΧΕΙΑ-ΝΕΑΠΟΛΗ             979\n",
      "ΑΓΙΟΣ ΚΩΝΣΤΑΝΤΙΝΟΣ-ΠΛΑΤΕΙΑ ΒΑΘΗΣ     817\n",
      "ΠΛΑΤΕΙΑ ΑΤΤΙΚΗΣ                      583\n",
      "ΠΑΓΚΡΑΤΙ                             511\n",
      "ΑΜΠΕΛΟΚΗΠΟΙ                          452\n",
      "ΚΟΛΩΝΑΚΙ                             425\n",
      "ΑΚΡΟΠΟΛΗ                             386\n",
      "ΘΗΣΕΙΟ                               386\n",
      "ΠΕΤΡΑΛΩΝΑ                            352\n",
      "ΚΕΡΑΜΕΙΚΟΣ                           343\n",
      "ΚΥΨΕΛΗ                               271\n",
      "ΣΤΑΔΙΟ                               252\n",
      "ΓΟΥΔΙ                                230\n",
      "ΙΛΙΣΙΑ                               216\n",
      "ΠΛΑΤΕΙΑ ΑΜΕΡΙΚΗΣ                     180\n",
      "ΝΙΡΒΑΝΑ                              174\n",
      "ΠΑΤΗΣΙΑ                              166\n",
      "ΛΥΚΑΒΗΤΤΟΣ                           162\n",
      "ΖΑΠΠΕΙΟ                              161\n",
      "ΑΝΩ ΚΥΨΕΛΗ                           119\n",
      "ΓΚΥΖΗ                                118\n",
      "ΠΕΔΙΟ ΑΡΕΩΣ                          109\n",
      "ΚΟΛΩΝΟΣ                              108\n",
      "ΓΚΑΖΙ                                106\n",
      "ΑΓΙΟΣ ΝΙΚΟΛΑΟΣ                        99\n",
      "ΣΤΑΘΜΟΣ ΛΑΡΙΣΗΣ                       85\n",
      "ΒΟΤΑΝΙΚΟΣ                             80\n",
      "ΑΚΑΔΗΜΙΑ ΠΛΑΤΩΝΟΣ                     76\n",
      "ΓΟΥΒΑ                                 75\n",
      "ΕΛΛΗΝΟΡΩΣΩΝ                           73\n",
      "ΝΕΑ ΚΥΨΕΛΗ                            64\n",
      "ΑΝΩ ΠΑΤΗΣΙΑ                           64\n",
      "1Ο ΝΕΚΡΟΤΑΦΕΙΟ                        55\n",
      "ΣΕΠΟΛΙΑ                               45\n",
      "ΑΓΙΟΣ ΕΛΕΥΘΕΡΙΟΣ                      38\n",
      "ΠΟΛΥΓΩΝΟ                              29\n",
      "ΚΟΛΟΚΥΝΘΟΥ                            16\n",
      "ΡΙΖΟΥΠΟΛΗ                             13\n",
      "ΠΡΟΜΠΟΝΑ                              12\n",
      "ΡΗΓΙΛΛΗΣ                               5\n",
      "ΠΕΝΤΑΓΩΝΟ                              2\n",
      "Name: count, dtype: int64\n"
     ]
    }
   ],
   "source": [
    "listings_per_neighbourhood = listings['neighbourhood'].value_counts().sort_values(ascending=False)"
   ]
  },
  {
   "cell_type": "markdown",
   "metadata": {},
   "source": [
    "By far the most popular area for listings seems to be the commercial triangle of Athens witch is defined as the central area of the Municipality of Athens enclosed by the road axes of Stadiou, Mitropoleos and Athena street. This is the area where most of the tourist attractions are located, so it makes sense that it is the most popular area for listings."
   ]
  },
  {
   "cell_type": "markdown",
   "metadata": {},
   "source": [
    "# Neighbourhood Prices in Descending Order\n",
    "\n",
    "Lets extract some metrics about neighbourhood prices. We will use the ```groupby()``` function to group the listings by neighbourhood and then perform aggregations on the price column. We will use the ```mean``` function of numpy to get the average price per neighbourhood, the ```mean``` function to get the mean price and the ```std``` and ```size``` to get the standard deviation and count of listings accordingly. We will also sort the results in descending order by median price.\n"
   ]
  },
  {
   "cell_type": "code",
   "execution_count": 5,
   "metadata": {},
   "outputs": [
    {
     "name": "stdout",
     "output_type": "stream",
     "text": [
      "                                  median        mean          std  size\n",
      "neighbourhood                                                          \n",
      "ΡΗΓΙΛΛΗΣ                           120.0  367.800000   578.622675     5\n",
      "ΖΑΠΠΕΙΟ                            114.0  224.068323   641.163173   161\n",
      "ΕΜΠΟΡΙΚΟ ΤΡΙΓΩΝΟ-ΠΛΑΚΑ             104.0  140.650662   229.183015  2416\n",
      "ΑΚΡΟΠΟΛΗ                           100.0  195.344560   703.321565   386\n",
      "ΚΟΛΩΝΑΚΙ                           100.0  128.595294   104.431349   425\n",
      "ΚΟΥΚΑΚΙ-ΜΑΚΡΥΓΙΑΝΝΗ                 90.5  120.284314   104.613533  1122\n",
      "ΘΗΣΕΙΟ                              90.0  126.492228   124.176775   386\n",
      "ΚΕΡΑΜΕΙΚΟΣ                          89.0  123.883382   136.367487   343\n",
      "ΛΥΚΑΒΗΤΤΟΣ                          75.0  104.561728    87.859850   162\n",
      "ΓΚΑΖΙ                               70.5   95.792453    75.355882   106\n",
      "ΣΤΑΔΙΟ                              70.0  121.515873   509.991840   252\n",
      "ΙΛΙΣΙΑ                              70.0   87.189815    53.519013   216\n",
      "ΜΟΥΣΕΙΟ-ΕΞΑΡΧΕΙΑ-ΝΕΑΠΟΛΗ            67.0  169.259448  2563.621548   979\n",
      "ΝΕΟΣ ΚΟΣΜΟΣ                         67.0   94.586735   127.407374   980\n",
      "ΠΑΓΚΡΑΤΙ                            67.0   84.062622    92.218241   511\n",
      "ΠΕΤΡΑΛΩΝΑ                           66.5  104.701705   285.518630   352\n",
      "1Ο ΝΕΚΡΟΤΑΦΕΙΟ                      61.0   98.818182    92.281191    55\n",
      "ΕΛΛΗΝΟΡΩΣΩΝ                         60.0   81.589041    72.727390    73\n",
      "ΒΟΤΑΝΙΚΟΣ                           60.0   78.200000    48.042281    80\n",
      "ΓΟΥΒΑ                               58.0   72.240000    83.506245    75\n",
      "ΑΜΠΕΛΟΚΗΠΟΙ                         58.0   66.915929    39.297399   452\n",
      "ΑΓΙΟΣ ΚΩΝΣΤΑΝΤΙΝΟΣ-ΠΛΑΤΕΙΑ ΒΑΘΗΣ    58.0   78.155447    73.453460   817\n",
      "ΓΟΥΔΙ                               58.0   68.952174    37.039603   230\n",
      "ΠΡΟΜΠΟΝΑ                            57.0   60.833333    27.511430    12\n",
      "ΠΕΔΙΟ ΑΡΕΩΣ                         56.0  148.137615   761.697707   109\n",
      "ΣΕΠΟΛΙΑ                             55.0   77.422222   150.067332    45\n",
      "ΝΕΑ ΚΥΨΕΛΗ                          50.0   56.453125    28.871873    64\n",
      "ΣΤΑΘΜΟΣ ΛΑΡΙΣΗΣ                     50.0   61.564706    58.615870    85\n",
      "ΚΥΨΕΛΗ                              50.0   62.656827    58.884856   271\n",
      "ΑΚΑΔΗΜΙΑ ΠΛΑΤΩΝΟΣ                   50.0   79.934211   163.926596    76\n",
      "ΠΛΑΤΕΙΑ ΑΤΤΙΚΗΣ                     48.0   64.116638    74.498484   583\n",
      "ΑΝΩ ΠΑΤΗΣΙΑ                         48.0   56.078125    29.493774    64\n",
      "ΚΟΛΩΝΟΣ                             47.0   51.888889    21.263955   108\n",
      "ΠΕΝΤΑΓΩΝΟ                           46.0   46.000000     1.414214     2\n",
      "ΠΑΤΗΣΙΑ                             45.0   60.524096   117.601314   166\n",
      "ΠΟΛΥΓΩΝΟ                            45.0   54.310345    26.467100    29\n",
      "ΑΓΙΟΣ ΝΙΚΟΛΑΟΣ                      45.0   53.202020    32.861484    99\n",
      "ΓΚΥΖΗ                               44.5   52.033898    42.301913   118\n",
      "ΠΛΑΤΕΙΑ ΑΜΕΡΙΚΗΣ                    44.0   52.500000    37.479603   180\n",
      "ΡΙΖΟΥΠΟΛΗ                           44.0   52.538462    22.096815    13\n",
      "ΚΟΛΟΚΥΝΘΟΥ                          43.0   43.937500     9.532182    16\n",
      "ΝΙΡΒΑΝΑ                             42.0   53.045977    39.449070   174\n",
      "ΑΝΩ ΚΥΨΕΛΗ                          42.0   45.932773    23.316078   119\n",
      "ΑΓΙΟΣ ΕΛΕΥΘΕΡΙΟΣ                    41.5   43.736842    17.408734    38\n"
     ]
    }
   ],
   "source": [
    "listings_grouped_by_neighbourhood = listings.groupby('neighbourhood')\n",
    "neighbourhood_prices = listings_grouped_by_neighbourhood['price'].agg([np.median, np.mean, np.std, np.size])\n",
    "neighbourhood_prices = neighbourhood_prices.sort_values(by='median', ascending=False)\n",
    "print(neighbourhood_prices)"
   ]
  },
  {
   "cell_type": "markdown",
   "metadata": {},
   "source": [
    "Despite the fact that the commercial triangle is the most popular area for listings, it is not the most expensive one. The most expensive neighbourhood by median price is Riglis Street."
   ]
  },
  {
   "cell_type": "markdown",
   "metadata": {},
   "source": [
    "## Availability per Day\n",
    "\n",
    "Lets see how many listings are available per day. We will use the calendar dataset for this purpose.\n",
    "<br>\n",
    "We load the dataset and take a quick look at the structure of the data."
   ]
  },
  {
   "cell_type": "code",
   "execution_count": 40,
   "metadata": {},
   "outputs": [
    {
     "data": {
      "text/html": [
       "<div>\n",
       "<style scoped>\n",
       "    .dataframe tbody tr th:only-of-type {\n",
       "        vertical-align: middle;\n",
       "    }\n",
       "\n",
       "    .dataframe tbody tr th {\n",
       "        vertical-align: top;\n",
       "    }\n",
       "\n",
       "    .dataframe thead th {\n",
       "        text-align: right;\n",
       "    }\n",
       "</style>\n",
       "<table border=\"1\" class=\"dataframe\">\n",
       "  <thead>\n",
       "    <tr style=\"text-align: right;\">\n",
       "      <th></th>\n",
       "      <th>listing_id</th>\n",
       "      <th>date</th>\n",
       "      <th>available</th>\n",
       "      <th>price</th>\n",
       "      <th>adjusted_price</th>\n",
       "      <th>minimum_nights</th>\n",
       "      <th>maximum_nights</th>\n",
       "    </tr>\n",
       "  </thead>\n",
       "  <tbody>\n",
       "    <tr>\n",
       "      <th>0</th>\n",
       "      <td>10595</td>\n",
       "      <td>2023-09-21</td>\n",
       "      <td>f</td>\n",
       "      <td>$150.00</td>\n",
       "      <td>$60.00</td>\n",
       "      <td>1</td>\n",
       "      <td>180</td>\n",
       "    </tr>\n",
       "    <tr>\n",
       "      <th>1</th>\n",
       "      <td>10595</td>\n",
       "      <td>2023-09-22</td>\n",
       "      <td>t</td>\n",
       "      <td>$150.00</td>\n",
       "      <td>$60.00</td>\n",
       "      <td>1</td>\n",
       "      <td>180</td>\n",
       "    </tr>\n",
       "    <tr>\n",
       "      <th>2</th>\n",
       "      <td>10595</td>\n",
       "      <td>2023-09-23</td>\n",
       "      <td>t</td>\n",
       "      <td>$150.00</td>\n",
       "      <td>$75.00</td>\n",
       "      <td>1</td>\n",
       "      <td>180</td>\n",
       "    </tr>\n",
       "    <tr>\n",
       "      <th>3</th>\n",
       "      <td>10595</td>\n",
       "      <td>2023-09-24</td>\n",
       "      <td>t</td>\n",
       "      <td>$150.00</td>\n",
       "      <td>$90.00</td>\n",
       "      <td>1</td>\n",
       "      <td>180</td>\n",
       "    </tr>\n",
       "    <tr>\n",
       "      <th>4</th>\n",
       "      <td>10595</td>\n",
       "      <td>2023-09-25</td>\n",
       "      <td>f</td>\n",
       "      <td>$300.00</td>\n",
       "      <td>$210.00</td>\n",
       "      <td>1</td>\n",
       "      <td>180</td>\n",
       "    </tr>\n",
       "  </tbody>\n",
       "</table>\n",
       "</div>"
      ],
      "text/plain": [
       "   listing_id        date available    price adjusted_price  minimum_nights   \n",
       "0       10595  2023-09-21         f  $150.00         $60.00               1  \\\n",
       "1       10595  2023-09-22         t  $150.00         $60.00               1   \n",
       "2       10595  2023-09-23         t  $150.00         $75.00               1   \n",
       "3       10595  2023-09-24         t  $150.00         $90.00               1   \n",
       "4       10595  2023-09-25         f  $300.00        $210.00               1   \n",
       "\n",
       "   maximum_nights  \n",
       "0             180  \n",
       "1             180  \n",
       "2             180  \n",
       "3             180  \n",
       "4             180  "
      ]
     },
     "execution_count": 40,
     "metadata": {},
     "output_type": "execute_result"
    }
   ],
   "source": [
    "calendar = pd.read_csv('../data/calendar.csv')\n",
    "calendar.head()"
   ]
  },
  {
   "cell_type": "markdown",
   "metadata": {},
   "source": [
    "We observe that availability is marked as a binary value, indicated by the t and f values.\n",
    "<br>\n",
    "We will filter for values that are equal to t and then group by date and count the number of listings available per day.\n",
    "<br>\n",
    "Replacing the t and f values with 1 and 0 respectively, would also be a good strategy, but considering that we are only interested in the number of listings available per day, it is not necessary."
   ]
  },
  {
   "cell_type": "code",
   "execution_count": 46,
   "metadata": {},
   "outputs": [
    {
     "data": {
      "image/png": "[encoded data removed]",
      "text/plain": [
       "<Figure size 640x480 with 1 Axes>"
      ]
     },
     "metadata": {},
     "output_type": "display_data"
    }
   ],
   "source": [
    "# Create a plot with the number of listings available per day, on the y axis, and the date, on the x axis.\n",
    "x = calendar['date'].unique()\n",
    "y = calendar[calendar['available'] == 't'].groupby('date').size()\n",
    "_ = plt.plot(x,y)"
   ]
  },
  {
   "cell_type": "markdown",
   "metadata": {},
   "source": [
    "As we can see, considering we are looking of a snapshot of all listings from a particular day in the past, the larger the timeframe the more chances of finding an available listing. This is up to the point of around 6 months where uncertanty of the hosts about their availability starts to increase so the available listings are becoming more and more scarce.  "
   ]
  },
  {
   "cell_type": "markdown",
   "metadata": {},
   "source": [
    "## Reviews, Occupacy per Listing, Average Income\n"
   ]
  },
  {
   "cell_type": "markdown",
   "metadata": {},
   "source": [
    "Let's see some facts about airbnb listings. First we will create a histogram to see the distribution of the number of reviews per listing. We will use the ```hist()``` function for this purpose."
   ]
  },
  {
   "cell_type": "code",
   "execution_count": 156,
   "metadata": {},
   "outputs": [
    {
     "data": {
      "image/png": "[encoded data removed]",
      "text/plain": [
       "<Figure size 640x480 with 1 Axes>"
      ]
     },
     "metadata": {},
     "output_type": "display_data"
    }
   ],
   "source": [
    "listing_reviews = listings['number_of_reviews']\n",
    "_ = listing_reviews.hist(bins=np.arange(min(listing_reviews), max(listing_reviews) + 100, 100), edgecolor='black')"
   ]
  },
  {
   "cell_type": "markdown",
   "metadata": {},
   "source": [
    "The vast majority of listings have less than 100 reviews. This indicates that most of listings are relatively new with the exception of some seasoned listing outliers reaching up to 600 reviews. We can also get an indicator that Airbnb is not actualy a popular choice for tourists in Athens assuming reviews are a sign of occupancy."
   ]
  },
  {
   "cell_type": "markdown",
   "metadata": {},
   "source": [
    "But how much do airbnb hosts earn? Lets try to find out. For that we are going to make some assumptions. First, we will assume that the number of reviews is a good indicator of occupancy. Second, we will assume that the average occupancy per listing per month is double the reviews per month. Third, we will assume that the average price per night is the global average price of the dataset and finally we will assume that each booking is for three nights stay. With these assumptions we can calculate the average income per listing per month."
   ]
  },
  {
   "cell_type": "code",
   "execution_count": 73,
   "metadata": {},
   "outputs": [
    {
     "name": "stdout",
     "output_type": "stream",
     "text": [
      "1190.1502553966434\n"
     ]
    }
   ],
   "source": [
    "avg_reviews_per_month = listings['reviews_per_month'].mean()\n",
    "avg_occupacy_per_month = avg_reviews_per_month * 2\n",
    "avg_price = listings['price'].mean()\n",
    "avg_income_per_month = avg_occupacy_per_month * avg_price * 3\n",
    "print(avg_income_per_month)\n"
   ]
  },
  {
   "cell_type": "code",
   "execution_count": 78,
   "metadata": {},
   "outputs": [
    {
     "name": "stdout",
     "output_type": "stream",
     "text": [
      "room_type\n",
      "Entire home/apt    11652\n",
      "Private room        1113\n",
      "Hotel room           105\n",
      "Shared room           85\n",
      "Name: count, dtype: int64\n"
     ]
    }
   ],
   "source": [
    "# Show the number of listings per room type, in absolute numbers,\n",
    "#  and also in percentages (the percentage of listings for each particular room type).\n",
    "# Then, show the number of listings per neighrbourhood and room type.\n",
    "\n",
    "listings_per_room_type_abs = listings['room_type'].value_counts()\n",
    "print(listings_per_room_type_abs)\n"
   ]
  },
  {
   "cell_type": "code",
   "execution_count": 79,
   "metadata": {},
   "outputs": [
    {
     "name": "stdout",
     "output_type": "stream",
     "text": [
      "room_type\n",
      "Entire home/apt    0.899421\n",
      "Private room       0.085913\n",
      "Hotel room         0.008105\n",
      "Shared room        0.006561\n",
      "Name: proportion, dtype: float64\n"
     ]
    }
   ],
   "source": [
    "listings_per_room_type_perc = listings['room_type'].value_counts(normalize=True)\n",
    "print(listings_per_room_type_perc)"
   ]
  },
  {
   "cell_type": "code",
   "execution_count": 83,
   "metadata": {},
   "outputs": [
    {
     "data": {
      "text/plain": [
       "neighbourhood                     room_type      \n",
       "1Ο ΝΕΚΡΟΤΑΦΕΙΟ                    Entire home/apt     55\n",
       "ΑΓΙΟΣ ΕΛΕΥΘΕΡΙΟΣ                  Entire home/apt     33\n",
       "                                  Private room         5\n",
       "ΑΓΙΟΣ ΚΩΝΣΤΑΝΤΙΝΟΣ-ΠΛΑΤΕΙΑ ΒΑΘΗΣ  Entire home/apt    686\n",
       "                                  Hotel room           4\n",
       "                                                    ... \n",
       "ΣΤΑΔΙΟ                            Private room        11\n",
       "ΣΤΑΘΜΟΣ ΛΑΡΙΣΗΣ                   Entire home/apt     73\n",
       "                                  Hotel room           4\n",
       "                                  Private room         4\n",
       "                                  Shared room          4\n",
       "Length: 111, dtype: int64"
      ]
     },
     "execution_count": 83,
     "metadata": {},
     "output_type": "execute_result"
    }
   ],
   "source": [
    "listings_per_neighbourhood_and_room_type = listings.groupby(['neighbourhood', 'room_type']).size()"
   ]
  },
  {
   "cell_type": "code",
   "execution_count": 108,
   "metadata": {},
   "outputs": [
    {
     "data": {
      "text/plain": [
       "<Axes: xlabel='last_review'>"
      ]
     },
     "execution_count": 108,
     "metadata": {},
     "output_type": "execute_result"
    },
    {
     "data": {
      "image/png": "[encoded data removed]",
      "text/plain": [
       "<Figure size 640x480 with 1 Axes>"
      ]
     },
     "metadata": {},
     "output_type": "display_data"
    }
   ],
   "source": [
    "# Create a table with the average price per listing per day. Draw a graph visualizing the table.\n",
    "# Needs work\n",
    "average_price_per_day = listings.groupby('last_review')['price'].mean()\n",
    "average_price_per_day.plot()"
   ]
  },
  {
   "cell_type": "code",
   "execution_count": 119,
   "metadata": {},
   "outputs": [
    {
     "data": {
      "image/png": "[encoded data removed]",
      "text/plain": [
       "<Figure size 640x480 with 1 Axes>"
      ]
     },
     "metadata": {},
     "output_type": "display_data"
    }
   ],
   "source": [
    "# Create a table with the number of listings per host, in descending order. Create a graph that will show the distribution of listings per host, as follows:\n",
    "\n",
    "# * You will rank the host on a number of listings basis. So, the first host will be the one with the largest number of listings, the second host will be the one with the second largest number of listings, etc. If there is a number of hosts with the same listings, just add them in sequence. For instance, if there are 10 hosts with one listing each, add them in the ranking with any order between them.\n",
    "\n",
    "# * On the $y$ axis you will have the number of listings.\n",
    "\n",
    "# That is, a point $(x, y)$ will mean that the $x$-th highest hosting host has $y$ listings.\n",
    "\n",
    "host_listings_sorted = listings['host_id'].value_counts().sort_values(ascending=False)\n",
    "x = np.arange(1, len(host_listings_sorted) + 1)\n",
    "y = host_listings_sorted.values\n",
    "_ = plt.scatter(x, y)"
   ]
  },
  {
   "cell_type": "code",
   "execution_count": 120,
   "metadata": {},
   "outputs": [
    {
     "data": {
      "image/png": "[encoded data removed]",
      "text/plain": [
       "<Figure size 640x480 with 1 Axes>"
      ]
     },
     "metadata": {},
     "output_type": "display_data"
    }
   ],
   "source": [
    "# After you have drawn the plot, do another one, this time with the $x$ axis in *logarithmic* scale.\n",
    "x = np.arange(1, len(host_listings_sorted) + 1)\n",
    "x = np.log(x)\n",
    "y = host_listings_sorted.values\n",
    "_ = plt.scatter(x, y)"
   ]
  },
  {
   "cell_type": "code",
   "execution_count": 122,
   "metadata": {},
   "outputs": [],
   "source": [
    "import folium as fl"
   ]
  },
  {
   "cell_type": "code",
   "execution_count": 139,
   "metadata": {},
   "outputs": [],
   "source": [
    "\n",
    "ath_map = fl.Map(location=[37.98863, 23.76527], zoom_start=12, max_zoom=15)\n",
    "listings_head = listings.head(100)\n",
    "#Loop through each row in the dataframe\n",
    "for i,row in listings_head.iterrows():\n",
    "\n",
    "    html = f\"\"\"<h3>{row['name']}</h3>\n",
    "\n",
    "    <div>\n",
    "        <p><strong>Host:</strong>{row['host_name']}</p>\n",
    "        <p><strong>Neighbourhood:</strong> {row['neighbourhood']}</p>\n",
    "        <p><strong>Room Type:</strong> {row['room_type']}</p>\n",
    "        <p><strong>Price:</strong> {row['price']} €</p>\n",
    "        <p><strong>Minimum Nights:</strong> {row['minimum_nights']}</p>\n",
    "        <p><strong>Number of Reviews:</strong> {row['number_of_reviews']}</p>\n",
    "    </div>\n",
    "    \"\"\"\n",
    "    #Setup the content of the popup\n",
    "    iframe = fl.IFrame(html=html)\n",
    "    \n",
    "    #Initialise the popup using the iframe\n",
    "    popup = fl.Popup(iframe, min_width=300, max_width=300)\n",
    "    \n",
    "    #Add each row to the map\n",
    "    fl.Marker(location=[row['latitude'],row['longitude']],\n",
    "                  popup = popup).add_to(ath_map)\n",
    "\n",
    "ath_map.save('index.html')"
   ]
  }
 ],
 "metadata": {
  "kernelspec": {
   "display_name": "Python 3",
   "language": "python",
   "name": "python3"
  },
  "language_info": {
   "codemirror_mode": {
    "name": "ipython",
    "version": 3
   },
   "file_extension": ".py",
   "mimetype": "text/x-python",
   "name": "python",
   "nbconvert_exporter": "python",
   "pygments_lexer": "ipython3",
   "version": "3.10.12"
  }
 },
 "nbformat": 4,
 "nbformat_minor": 2
}
