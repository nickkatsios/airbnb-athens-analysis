{
 "cells": [
  {
   "cell_type": "markdown",
   "metadata": {},
   "source": [
    "# Exploring AirBnb In Athens"
   ]
  },
  {
   "cell_type": "markdown",
   "metadata": {},
   "source": [
    "First, we import the necessary libraries and read the data. \n"
   ]
  },
  {
   "cell_type": "code",
   "execution_count": 176,
   "metadata": {},
   "outputs": [],
   "source": [
    "import numpy as np\n",
    "import pandas as pd\n",
    "import matplotlib.pyplot as plt"
   ]
  },
  {
   "cell_type": "markdown",
   "metadata": {},
   "source": [
    "We will primarily use the listings.csv file, which contains information about the listings in Athens."
   ]
  },
  {
   "cell_type": "code",
   "execution_count": 177,
   "metadata": {},
   "outputs": [],
   "source": [
    "listings = pd.read_csv('../data/listings.csv')"
   ]
  },
  {
   "cell_type": "markdown",
   "metadata": {},
   "source": [
    "Lets perform a quick check to examine the available columns"
   ]
  },
  {
   "cell_type": "code",
   "execution_count": 178,
   "metadata": {},
   "outputs": [
    {
     "data": {
      "text/plain": [
       "Index(['id', 'name', 'host_id', 'host_name', 'neighbourhood_group',\n",
       "       'neighbourhood', 'latitude', 'longitude', 'room_type', 'price',\n",
       "       'minimum_nights', 'number_of_reviews', 'last_review',\n",
       "       'reviews_per_month', 'calculated_host_listings_count',\n",
       "       'availability_365', 'number_of_reviews_ltm', 'license'],\n",
       "      dtype='object')"
      ]
     },
     "execution_count": 178,
     "metadata": {},
     "output_type": "execute_result"
    }
   ],
   "source": [
    "listings.columns"
   ]
  },
  {
   "cell_type": "markdown",
   "metadata": {},
   "source": [
    "And another one to get a sample of the data, we will use the sample() function for this purpose and select 5 random rows."
   ]
  },
  {
   "cell_type": "code",
   "execution_count": 179,
   "metadata": {},
   "outputs": [
    {
     "data": {
      "text/html": [
       "<div>\n",
       "<style scoped>\n",
       "    .dataframe tbody tr th:only-of-type {\n",
       "        vertical-align: middle;\n",
       "    }\n",
       "\n",
       "    .dataframe tbody tr th {\n",
       "        vertical-align: top;\n",
       "    }\n",
       "\n",
       "    .dataframe thead th {\n",
       "        text-align: right;\n",
       "    }\n",
       "</style>\n",
       "<table border=\"1\" class=\"dataframe\">\n",
       "  <thead>\n",
       "    <tr style=\"text-align: right;\">\n",
       "      <th></th>\n",
       "      <th>id</th>\n",
       "      <th>name</th>\n",
       "      <th>host_id</th>\n",
       "      <th>host_name</th>\n",
       "      <th>neighbourhood_group</th>\n",
       "      <th>neighbourhood</th>\n",
       "      <th>latitude</th>\n",
       "      <th>longitude</th>\n",
       "      <th>room_type</th>\n",
       "      <th>price</th>\n",
       "      <th>minimum_nights</th>\n",
       "      <th>number_of_reviews</th>\n",
       "      <th>last_review</th>\n",
       "      <th>reviews_per_month</th>\n",
       "      <th>calculated_host_listings_count</th>\n",
       "      <th>availability_365</th>\n",
       "      <th>number_of_reviews_ltm</th>\n",
       "      <th>license</th>\n",
       "    </tr>\n",
       "  </thead>\n",
       "  <tbody>\n",
       "    <tr>\n",
       "      <th>303</th>\n",
       "      <td>5662266</td>\n",
       "      <td>Home in Athina · ★4.89 · 2 bedrooms · 3 beds ·...</td>\n",
       "      <td>29353642</td>\n",
       "      <td>Sabine</td>\n",
       "      <td>NaN</td>\n",
       "      <td>ΑΚΡΟΠΟΛΗ</td>\n",
       "      <td>37.971153</td>\n",
       "      <td>23.729937</td>\n",
       "      <td>Entire home/apt</td>\n",
       "      <td>150</td>\n",
       "      <td>7</td>\n",
       "      <td>18</td>\n",
       "      <td>2022-11-17</td>\n",
       "      <td>0.18</td>\n",
       "      <td>1</td>\n",
       "      <td>324</td>\n",
       "      <td>5</td>\n",
       "      <td>00001465790</td>\n",
       "    </tr>\n",
       "    <tr>\n",
       "      <th>10815</th>\n",
       "      <td>866691337158145096</td>\n",
       "      <td>Rental unit in Athina · 1 bedroom · 6 beds · 2...</td>\n",
       "      <td>33626433</td>\n",
       "      <td>Airnite</td>\n",
       "      <td>NaN</td>\n",
       "      <td>ΠΛΑΤΕΙΑ ΑΤΤΙΚΗΣ</td>\n",
       "      <td>37.991588</td>\n",
       "      <td>23.730079</td>\n",
       "      <td>Shared room</td>\n",
       "      <td>20</td>\n",
       "      <td>1</td>\n",
       "      <td>0</td>\n",
       "      <td>NaN</td>\n",
       "      <td>NaN</td>\n",
       "      <td>18</td>\n",
       "      <td>364</td>\n",
       "      <td>0</td>\n",
       "      <td>01126280217</td>\n",
       "    </tr>\n",
       "    <tr>\n",
       "      <th>6089</th>\n",
       "      <td>49135372</td>\n",
       "      <td>Condo in Athina · ★4.91 · 2 bedrooms · 4 beds ...</td>\n",
       "      <td>181829489</td>\n",
       "      <td>Γιαννης</td>\n",
       "      <td>NaN</td>\n",
       "      <td>ΕΜΠΟΡΙΚΟ ΤΡΙΓΩΝΟ-ΠΛΑΚΑ</td>\n",
       "      <td>37.970930</td>\n",
       "      <td>23.732090</td>\n",
       "      <td>Entire home/apt</td>\n",
       "      <td>200</td>\n",
       "      <td>2</td>\n",
       "      <td>92</td>\n",
       "      <td>2023-09-19</td>\n",
       "      <td>4.37</td>\n",
       "      <td>2</td>\n",
       "      <td>331</td>\n",
       "      <td>46</td>\n",
       "      <td>00001758592</td>\n",
       "    </tr>\n",
       "    <tr>\n",
       "      <th>586</th>\n",
       "      <td>10325584</td>\n",
       "      <td>Condo in Athina · ★4.83 · 2 bedrooms · 3 beds ...</td>\n",
       "      <td>52909234</td>\n",
       "      <td>Elena</td>\n",
       "      <td>NaN</td>\n",
       "      <td>ΣΤΑΔΙΟ</td>\n",
       "      <td>37.966980</td>\n",
       "      <td>23.740360</td>\n",
       "      <td>Entire home/apt</td>\n",
       "      <td>77</td>\n",
       "      <td>3</td>\n",
       "      <td>36</td>\n",
       "      <td>2023-07-26</td>\n",
       "      <td>0.43</td>\n",
       "      <td>1</td>\n",
       "      <td>304</td>\n",
       "      <td>10</td>\n",
       "      <td>00000274242</td>\n",
       "    </tr>\n",
       "    <tr>\n",
       "      <th>3387</th>\n",
       "      <td>31102252</td>\n",
       "      <td>Condo in Athina · ★4.98 · 1 bedroom · 2 beds ·...</td>\n",
       "      <td>216454368</td>\n",
       "      <td>Γιάννης</td>\n",
       "      <td>NaN</td>\n",
       "      <td>ΚΟΥΚΑΚΙ-ΜΑΚΡΥΓΙΑΝΝΗ</td>\n",
       "      <td>37.963550</td>\n",
       "      <td>23.719710</td>\n",
       "      <td>Entire home/apt</td>\n",
       "      <td>65</td>\n",
       "      <td>2</td>\n",
       "      <td>44</td>\n",
       "      <td>2022-10-03</td>\n",
       "      <td>0.77</td>\n",
       "      <td>2</td>\n",
       "      <td>321</td>\n",
       "      <td>1</td>\n",
       "      <td>00001890400</td>\n",
       "    </tr>\n",
       "  </tbody>\n",
       "</table>\n",
       "</div>"
      ],
      "text/plain": [
       "                       id                                               name   \n",
       "303               5662266  Home in Athina · ★4.89 · 2 bedrooms · 3 beds ·...  \\\n",
       "10815  866691337158145096  Rental unit in Athina · 1 bedroom · 6 beds · 2...   \n",
       "6089             49135372  Condo in Athina · ★4.91 · 2 bedrooms · 4 beds ...   \n",
       "586              10325584  Condo in Athina · ★4.83 · 2 bedrooms · 3 beds ...   \n",
       "3387             31102252  Condo in Athina · ★4.98 · 1 bedroom · 2 beds ·...   \n",
       "\n",
       "         host_id host_name  neighbourhood_group           neighbourhood   \n",
       "303     29353642    Sabine                  NaN                ΑΚΡΟΠΟΛΗ  \\\n",
       "10815   33626433   Airnite                  NaN         ΠΛΑΤΕΙΑ ΑΤΤΙΚΗΣ   \n",
       "6089   181829489   Γιαννης                  NaN  ΕΜΠΟΡΙΚΟ ΤΡΙΓΩΝΟ-ΠΛΑΚΑ   \n",
       "586     52909234     Elena                  NaN                  ΣΤΑΔΙΟ   \n",
       "3387   216454368   Γιάννης                  NaN     ΚΟΥΚΑΚΙ-ΜΑΚΡΥΓΙΑΝΝΗ   \n",
       "\n",
       "        latitude  longitude        room_type  price  minimum_nights   \n",
       "303    37.971153  23.729937  Entire home/apt    150               7  \\\n",
       "10815  37.991588  23.730079      Shared room     20               1   \n",
       "6089   37.970930  23.732090  Entire home/apt    200               2   \n",
       "586    37.966980  23.740360  Entire home/apt     77               3   \n",
       "3387   37.963550  23.719710  Entire home/apt     65               2   \n",
       "\n",
       "       number_of_reviews last_review  reviews_per_month   \n",
       "303                   18  2022-11-17               0.18  \\\n",
       "10815                  0         NaN                NaN   \n",
       "6089                  92  2023-09-19               4.37   \n",
       "586                   36  2023-07-26               0.43   \n",
       "3387                  44  2022-10-03               0.77   \n",
       "\n",
       "       calculated_host_listings_count  availability_365   \n",
       "303                                 1               324  \\\n",
       "10815                              18               364   \n",
       "6089                                2               331   \n",
       "586                                 1               304   \n",
       "3387                                2               321   \n",
       "\n",
       "       number_of_reviews_ltm      license  \n",
       "303                        5  00001465790  \n",
       "10815                      0  01126280217  \n",
       "6089                      46  00001758592  \n",
       "586                       10  00000274242  \n",
       "3387                       1  00001890400  "
      ]
     },
     "execution_count": 179,
     "metadata": {},
     "output_type": "execute_result"
    }
   ],
   "source": [
    "listings.sample(5)"
   ]
  },
  {
   "cell_type": "markdown",
   "metadata": {},
   "source": [
    "# Listings Per Neighbourhood\n",
    "\n",
    "Lets see how many listings are available per neighbourhood. We will use the ```value_counts()``` function on the neighbourhoods column for that.\n",
    "<br>\n",
    "We ensure that the results are sorted in descending popularity order by using the ```sort_values()``` function."
   ]
  },
  {
   "cell_type": "code",
   "execution_count": 180,
   "metadata": {},
   "outputs": [],
   "source": [
    "listings_per_neighbourhood = listings['neighbourhood'].value_counts().sort_values(ascending=False)"
   ]
  },
  {
   "cell_type": "markdown",
   "metadata": {},
   "source": [
    "By far the most popular area for listings seems to be the commercial triangle of Athens witch is defined as the central area of the Municipality of Athens enclosed by the road axes of Stadiou, Mitropoleos and Athena street. This is the area where most of the tourist attractions are located, so it makes sense that it is the most popular area for listings."
   ]
  },
  {
   "cell_type": "markdown",
   "metadata": {},
   "source": [
    "# Neighbourhood Prices in Descending Order\n",
    "\n",
    "Lets extract some metrics about neighbourhood prices. We will use the ```groupby()``` function to group the listings by neighbourhood and then perform aggregations on the price column. We will use the ```mean``` function of numpy to get the average price per neighbourhood, the ```mean``` function to get the mean price and the ```std``` and ```size``` to get the standard deviation and count of listings accordingly. We will also sort the results in descending order by median price.\n"
   ]
  },
  {
   "cell_type": "code",
   "execution_count": 181,
   "metadata": {},
   "outputs": [
    {
     "name": "stdout",
     "output_type": "stream",
     "text": [
      "                                  median        mean          std  size\n",
      "neighbourhood                                                          \n",
      "ΡΗΓΙΛΛΗΣ                           120.0  367.800000   578.622675     5\n",
      "ΖΑΠΠΕΙΟ                            114.0  224.068323   641.163173   161\n",
      "ΕΜΠΟΡΙΚΟ ΤΡΙΓΩΝΟ-ΠΛΑΚΑ             104.0  140.650662   229.183015  2416\n",
      "ΑΚΡΟΠΟΛΗ                           100.0  195.344560   703.321565   386\n",
      "ΚΟΛΩΝΑΚΙ                           100.0  128.595294   104.431349   425\n",
      "ΚΟΥΚΑΚΙ-ΜΑΚΡΥΓΙΑΝΝΗ                 90.5  120.284314   104.613533  1122\n",
      "ΘΗΣΕΙΟ                              90.0  126.492228   124.176775   386\n",
      "ΚΕΡΑΜΕΙΚΟΣ                          89.0  123.883382   136.367487   343\n",
      "ΛΥΚΑΒΗΤΤΟΣ                          75.0  104.561728    87.859850   162\n",
      "ΓΚΑΖΙ                               70.5   95.792453    75.355882   106\n",
      "ΣΤΑΔΙΟ                              70.0  121.515873   509.991840   252\n",
      "ΙΛΙΣΙΑ                              70.0   87.189815    53.519013   216\n",
      "ΜΟΥΣΕΙΟ-ΕΞΑΡΧΕΙΑ-ΝΕΑΠΟΛΗ            67.0  169.259448  2563.621548   979\n",
      "ΝΕΟΣ ΚΟΣΜΟΣ                         67.0   94.586735   127.407374   980\n",
      "ΠΑΓΚΡΑΤΙ                            67.0   84.062622    92.218241   511\n",
      "ΠΕΤΡΑΛΩΝΑ                           66.5  104.701705   285.518630   352\n",
      "1Ο ΝΕΚΡΟΤΑΦΕΙΟ                      61.0   98.818182    92.281191    55\n",
      "ΕΛΛΗΝΟΡΩΣΩΝ                         60.0   81.589041    72.727390    73\n",
      "ΒΟΤΑΝΙΚΟΣ                           60.0   78.200000    48.042281    80\n",
      "ΓΟΥΒΑ                               58.0   72.240000    83.506245    75\n",
      "ΑΜΠΕΛΟΚΗΠΟΙ                         58.0   66.915929    39.297399   452\n",
      "ΑΓΙΟΣ ΚΩΝΣΤΑΝΤΙΝΟΣ-ΠΛΑΤΕΙΑ ΒΑΘΗΣ    58.0   78.155447    73.453460   817\n",
      "ΓΟΥΔΙ                               58.0   68.952174    37.039603   230\n",
      "ΠΡΟΜΠΟΝΑ                            57.0   60.833333    27.511430    12\n",
      "ΠΕΔΙΟ ΑΡΕΩΣ                         56.0  148.137615   761.697707   109\n",
      "ΣΕΠΟΛΙΑ                             55.0   77.422222   150.067332    45\n",
      "ΝΕΑ ΚΥΨΕΛΗ                          50.0   56.453125    28.871873    64\n",
      "ΣΤΑΘΜΟΣ ΛΑΡΙΣΗΣ                     50.0   61.564706    58.615870    85\n",
      "ΚΥΨΕΛΗ                              50.0   62.656827    58.884856   271\n",
      "ΑΚΑΔΗΜΙΑ ΠΛΑΤΩΝΟΣ                   50.0   79.934211   163.926596    76\n",
      "ΠΛΑΤΕΙΑ ΑΤΤΙΚΗΣ                     48.0   64.116638    74.498484   583\n",
      "ΑΝΩ ΠΑΤΗΣΙΑ                         48.0   56.078125    29.493774    64\n",
      "ΚΟΛΩΝΟΣ                             47.0   51.888889    21.263955   108\n",
      "ΠΕΝΤΑΓΩΝΟ                           46.0   46.000000     1.414214     2\n",
      "ΠΑΤΗΣΙΑ                             45.0   60.524096   117.601314   166\n",
      "ΠΟΛΥΓΩΝΟ                            45.0   54.310345    26.467100    29\n",
      "ΑΓΙΟΣ ΝΙΚΟΛΑΟΣ                      45.0   53.202020    32.861484    99\n",
      "ΓΚΥΖΗ                               44.5   52.033898    42.301913   118\n",
      "ΠΛΑΤΕΙΑ ΑΜΕΡΙΚΗΣ                    44.0   52.500000    37.479603   180\n",
      "ΡΙΖΟΥΠΟΛΗ                           44.0   52.538462    22.096815    13\n",
      "ΚΟΛΟΚΥΝΘΟΥ                          43.0   43.937500     9.532182    16\n",
      "ΝΙΡΒΑΝΑ                             42.0   53.045977    39.449070   174\n",
      "ΑΝΩ ΚΥΨΕΛΗ                          42.0   45.932773    23.316078   119\n",
      "ΑΓΙΟΣ ΕΛΕΥΘΕΡΙΟΣ                    41.5   43.736842    17.408734    38\n"
     ]
    }
   ],
   "source": [
    "listings_grouped_by_neighbourhood = listings.groupby('neighbourhood')\n",
    "neighbourhood_prices = listings_grouped_by_neighbourhood['price'].agg([np.median, np.mean, np.std, np.size])\n",
    "neighbourhood_prices = neighbourhood_prices.sort_values(by='median', ascending=False)\n",
    "print(neighbourhood_prices)"
   ]
  },
  {
   "cell_type": "markdown",
   "metadata": {},
   "source": [
    "Despite the fact that the commercial triangle is the most popular area for listings, it is not the most expensive one. The most expensive neighbourhood by median price is Riglis Street."
   ]
  },
  {
   "cell_type": "markdown",
   "metadata": {},
   "source": [
    "## Availability per Day\n",
    "\n",
    "Lets see how many listings are available per day. We will use the calendar dataset for this purpose.\n",
    "<br>\n",
    "We load the dataset and take a quick look at the structure of the data."
   ]
  },
  {
   "cell_type": "code",
   "execution_count": 182,
   "metadata": {},
   "outputs": [
    {
     "data": {
      "text/html": [
       "<div>\n",
       "<style scoped>\n",
       "    .dataframe tbody tr th:only-of-type {\n",
       "        vertical-align: middle;\n",
       "    }\n",
       "\n",
       "    .dataframe tbody tr th {\n",
       "        vertical-align: top;\n",
       "    }\n",
       "\n",
       "    .dataframe thead th {\n",
       "        text-align: right;\n",
       "    }\n",
       "</style>\n",
       "<table border=\"1\" class=\"dataframe\">\n",
       "  <thead>\n",
       "    <tr style=\"text-align: right;\">\n",
       "      <th></th>\n",
       "      <th>listing_id</th>\n",
       "      <th>date</th>\n",
       "      <th>available</th>\n",
       "      <th>price</th>\n",
       "      <th>adjusted_price</th>\n",
       "      <th>minimum_nights</th>\n",
       "      <th>maximum_nights</th>\n",
       "    </tr>\n",
       "  </thead>\n",
       "  <tbody>\n",
       "    <tr>\n",
       "      <th>0</th>\n",
       "      <td>10595</td>\n",
       "      <td>2023-09-21</td>\n",
       "      <td>f</td>\n",
       "      <td>$150.00</td>\n",
       "      <td>$60.00</td>\n",
       "      <td>1</td>\n",
       "      <td>180</td>\n",
       "    </tr>\n",
       "    <tr>\n",
       "      <th>1</th>\n",
       "      <td>10595</td>\n",
       "      <td>2023-09-22</td>\n",
       "      <td>t</td>\n",
       "      <td>$150.00</td>\n",
       "      <td>$60.00</td>\n",
       "      <td>1</td>\n",
       "      <td>180</td>\n",
       "    </tr>\n",
       "    <tr>\n",
       "      <th>2</th>\n",
       "      <td>10595</td>\n",
       "      <td>2023-09-23</td>\n",
       "      <td>t</td>\n",
       "      <td>$150.00</td>\n",
       "      <td>$75.00</td>\n",
       "      <td>1</td>\n",
       "      <td>180</td>\n",
       "    </tr>\n",
       "    <tr>\n",
       "      <th>3</th>\n",
       "      <td>10595</td>\n",
       "      <td>2023-09-24</td>\n",
       "      <td>t</td>\n",
       "      <td>$150.00</td>\n",
       "      <td>$90.00</td>\n",
       "      <td>1</td>\n",
       "      <td>180</td>\n",
       "    </tr>\n",
       "    <tr>\n",
       "      <th>4</th>\n",
       "      <td>10595</td>\n",
       "      <td>2023-09-25</td>\n",
       "      <td>f</td>\n",
       "      <td>$300.00</td>\n",
       "      <td>$210.00</td>\n",
       "      <td>1</td>\n",
       "      <td>180</td>\n",
       "    </tr>\n",
       "  </tbody>\n",
       "</table>\n",
       "</div>"
      ],
      "text/plain": [
       "   listing_id        date available    price adjusted_price  minimum_nights   \n",
       "0       10595  2023-09-21         f  $150.00         $60.00               1  \\\n",
       "1       10595  2023-09-22         t  $150.00         $60.00               1   \n",
       "2       10595  2023-09-23         t  $150.00         $75.00               1   \n",
       "3       10595  2023-09-24         t  $150.00         $90.00               1   \n",
       "4       10595  2023-09-25         f  $300.00        $210.00               1   \n",
       "\n",
       "   maximum_nights  \n",
       "0             180  \n",
       "1             180  \n",
       "2             180  \n",
       "3             180  \n",
       "4             180  "
      ]
     },
     "execution_count": 182,
     "metadata": {},
     "output_type": "execute_result"
    }
   ],
   "source": [
    "calendar = pd.read_csv('../data/calendar.csv')\n",
    "calendar.head()"
   ]
  },
  {
   "cell_type": "markdown",
   "metadata": {},
   "source": [
    "We observe that availability is marked as a binary value, indicated by the t and f values.\n",
    "<br>\n",
    "We will filter for values that are equal to t and then group by date and count the number of listings available per day.\n",
    "<br>\n",
    "Replacing the t and f values with 1 and 0 respectively, would also be a good strategy, but considering that we are only interested in the number of listings available per day, it is not necessary."
   ]
  },
  {
   "cell_type": "code",
   "execution_count": 183,
   "metadata": {},
   "outputs": [
    {
     "data": {
      "image/png": "[encoded data removed]",
      "text/plain": [
       "<Figure size 640x480 with 1 Axes>"
      ]
     },
     "metadata": {},
     "output_type": "display_data"
    }
   ],
   "source": [
    "# Create a plot with the number of listings available per day, on the y axis, and the date, on the x axis.\n",
    "x = calendar['date'].unique()\n",
    "y = calendar[calendar['available'] == 't'].groupby('date').size()\n",
    "_ = plt.plot(x,y)"
   ]
  },
  {
   "cell_type": "markdown",
   "metadata": {},
   "source": [
    "As we can see, considering we are looking of a snapshot of all listings from a particular day in the past, the larger the timeframe the more chances of finding an available listing. This is up to the point of around 6 months where uncertanty of the hosts about their availability starts to increase so the available listings are becoming more and more scarce.  "
   ]
  },
  {
   "cell_type": "markdown",
   "metadata": {},
   "source": [
    "## Reviews, Occupacy per Listing, Average Income\n"
   ]
  },
  {
   "cell_type": "markdown",
   "metadata": {},
   "source": [
    "Let's see some facts about airbnb listings. First we will create a histogram to see the distribution of the number of reviews per listing. We will use the ```hist()``` function for this purpose."
   ]
  },
  {
   "cell_type": "code",
   "execution_count": 184,
   "metadata": {},
   "outputs": [
    {
     "data": {
      "image/png": "[encoded data removed]",
      "text/plain": [
       "<Figure size 640x480 with 1 Axes>"
      ]
     },
     "metadata": {},
     "output_type": "display_data"
    }
   ],
   "source": [
    "listing_reviews = listings['number_of_reviews']\n",
    "_ = listing_reviews.hist(bins=np.arange(min(listing_reviews), max(listing_reviews) + 100, 100), edgecolor='black')"
   ]
  },
  {
   "cell_type": "markdown",
   "metadata": {},
   "source": [
    "The vast majority of listings have less than 100 reviews. This indicates that most of listings are relatively new with the exception of some seasoned listing outliers reaching up to 600 reviews. We can also get an indicator that Airbnb is not actualy a popular choice for tourists in Athens assuming reviews are a sign of occupancy."
   ]
  },
  {
   "cell_type": "markdown",
   "metadata": {},
   "source": [
    "But how much do airbnb hosts earn? Lets try to find out. For that we are going to make some assumptions. First, we will assume that the number of reviews is a good indicator of occupancy. Second, we will assume that the average occupancy per listing per month is double the reviews per month. Third, we will assume that the average price per night is the global average price of the dataset and finally we will assume that each booking is for three nights stay. With these assumptions we can calculate the average income per listing per month."
   ]
  },
  {
   "cell_type": "code",
   "execution_count": 185,
   "metadata": {},
   "outputs": [
    {
     "name": "stdout",
     "output_type": "stream",
     "text": [
      "1190.1502553966434\n"
     ]
    }
   ],
   "source": [
    "avg_reviews_per_month = listings['reviews_per_month'].mean()\n",
    "avg_occupacy_per_month = avg_reviews_per_month * 2\n",
    "avg_price = listings['price'].mean()\n",
    "avg_income_per_month = avg_occupacy_per_month * avg_price * 3\n",
    "print(avg_income_per_month)\n"
   ]
  },
  {
   "cell_type": "markdown",
   "metadata": {},
   "source": [
    "The average income is 1190 euros witch is about the national average monthly salary."
   ]
  },
  {
   "cell_type": "markdown",
   "metadata": {},
   "source": [
    "Next, we will calculate the number of listings per room type, in absolute numbers. We can easily do that via the ```value_counts()``` function. We will also calculate the percentage of listings per room type by passing the ```normalize=True``` parameter to the ```value_counts()``` function."
   ]
  },
  {
   "cell_type": "code",
   "execution_count": 186,
   "metadata": {},
   "outputs": [
    {
     "data": {
      "text/plain": [
       "room_type\n",
       "Entire home/apt    11652\n",
       "Private room        1113\n",
       "Hotel room           105\n",
       "Shared room           85\n",
       "Name: count, dtype: int64"
      ]
     },
     "execution_count": 186,
     "metadata": {},
     "output_type": "execute_result"
    }
   ],
   "source": [
    "listings['room_type'].value_counts()"
   ]
  },
  {
   "cell_type": "code",
   "execution_count": 187,
   "metadata": {},
   "outputs": [
    {
     "data": {
      "text/plain": [
       "room_type\n",
       "Entire home/apt    0.899421\n",
       "Private room       0.085913\n",
       "Hotel room         0.008105\n",
       "Shared room        0.006561\n",
       "Name: proportion, dtype: float64"
      ]
     },
     "execution_count": 187,
     "metadata": {},
     "output_type": "execute_result"
    }
   ],
   "source": [
    "listings['room_type'].value_counts(normalize=True)"
   ]
  },
  {
   "cell_type": "markdown",
   "metadata": {},
   "source": [
    "As we can see almost 90% of the listings are entire homes or apartments. This is a clear indication that Airbnb is not used by locals to rent out a spare room in their house but rather by landlords to rent out entire apartments."
   ]
  },
  {
   "cell_type": "markdown",
   "metadata": {},
   "source": [
    "## Listings per Room Type\n",
    "\n",
    "\n",
    "Next, we will calculate the listings per neighbourhood and room type. We will use the ```groupby()``` function to group the listings by neighbourhood and room type and take the count of each grouping dimension."
   ]
  },
  {
   "cell_type": "code",
   "execution_count": 188,
   "metadata": {},
   "outputs": [],
   "source": [
    "listings_per_neighbourhood_and_room_type = listings.groupby(['neighbourhood', 'room_type']).size()"
   ]
  },
  {
   "cell_type": "markdown",
   "metadata": {},
   "source": [
    "## Prices per Day\n",
    "\n",
    "We can take a look at how the listing prices fluctuate throughout the year. We will use the calendar dataset for this purpose. We will group the listings by date and take the mean price per day."
   ]
  },
  {
   "cell_type": "code",
   "execution_count": 189,
   "metadata": {},
   "outputs": [
    {
     "data": {
      "text/html": [
       "<div>\n",
       "<style scoped>\n",
       "    .dataframe tbody tr th:only-of-type {\n",
       "        vertical-align: middle;\n",
       "    }\n",
       "\n",
       "    .dataframe tbody tr th {\n",
       "        vertical-align: top;\n",
       "    }\n",
       "\n",
       "    .dataframe thead th {\n",
       "        text-align: right;\n",
       "    }\n",
       "</style>\n",
       "<table border=\"1\" class=\"dataframe\">\n",
       "  <thead>\n",
       "    <tr style=\"text-align: right;\">\n",
       "      <th></th>\n",
       "      <th>listing_id</th>\n",
       "      <th>date</th>\n",
       "      <th>available</th>\n",
       "      <th>price</th>\n",
       "      <th>adjusted_price</th>\n",
       "      <th>minimum_nights</th>\n",
       "      <th>maximum_nights</th>\n",
       "    </tr>\n",
       "  </thead>\n",
       "  <tbody>\n",
       "    <tr>\n",
       "      <th>718956</th>\n",
       "      <td>23135396</td>\n",
       "      <td>2024-05-30</td>\n",
       "      <td>f</td>\n",
       "      <td>$45.00</td>\n",
       "      <td>$45.00</td>\n",
       "      <td>2</td>\n",
       "      <td>1125</td>\n",
       "    </tr>\n",
       "    <tr>\n",
       "      <th>2518334</th>\n",
       "      <td>52747353</td>\n",
       "      <td>2024-03-19</td>\n",
       "      <td>t</td>\n",
       "      <td>$198.00</td>\n",
       "      <td>$198.00</td>\n",
       "      <td>1</td>\n",
       "      <td>1125</td>\n",
       "    </tr>\n",
       "    <tr>\n",
       "      <th>838305</th>\n",
       "      <td>24936729</td>\n",
       "      <td>2024-05-24</td>\n",
       "      <td>t</td>\n",
       "      <td>$120.00</td>\n",
       "      <td>$120.00</td>\n",
       "      <td>2</td>\n",
       "      <td>1125</td>\n",
       "    </tr>\n",
       "    <tr>\n",
       "      <th>547110</th>\n",
       "      <td>19966438</td>\n",
       "      <td>2024-08-07</td>\n",
       "      <td>f</td>\n",
       "      <td>$35.00</td>\n",
       "      <td>$35.00</td>\n",
       "      <td>7</td>\n",
       "      <td>1125</td>\n",
       "    </tr>\n",
       "    <tr>\n",
       "      <th>723000</th>\n",
       "      <td>23199176</td>\n",
       "      <td>2024-06-28</td>\n",
       "      <td>t</td>\n",
       "      <td>$142.00</td>\n",
       "      <td>$142.00</td>\n",
       "      <td>3</td>\n",
       "      <td>1125</td>\n",
       "    </tr>\n",
       "  </tbody>\n",
       "</table>\n",
       "</div>"
      ],
      "text/plain": [
       "         listing_id        date available    price adjusted_price   \n",
       "718956     23135396  2024-05-30         f   $45.00         $45.00  \\\n",
       "2518334    52747353  2024-03-19         t  $198.00        $198.00   \n",
       "838305     24936729  2024-05-24         t  $120.00        $120.00   \n",
       "547110     19966438  2024-08-07         f   $35.00         $35.00   \n",
       "723000     23199176  2024-06-28         t  $142.00        $142.00   \n",
       "\n",
       "         minimum_nights  maximum_nights  \n",
       "718956                2            1125  \n",
       "2518334               1            1125  \n",
       "838305                2            1125  \n",
       "547110                7            1125  \n",
       "723000                3            1125  "
      ]
     },
     "execution_count": 189,
     "metadata": {},
     "output_type": "execute_result"
    }
   ],
   "source": [
    "calendar.sample(5)"
   ]
  },
  {
   "cell_type": "markdown",
   "metadata": {},
   "source": [
    "But first we have to do some cleaning. As we can see from the sample, the price column contains dollar signs and commas. We will remove them and convert the column to float. For the sake of readability of the plot, we will also convert the date column to datetime."
   ]
  },
  {
   "cell_type": "code",
   "execution_count": 190,
   "metadata": {},
   "outputs": [],
   "source": [
    "calendar['price'] = calendar['price'].str.replace('$', '')\n",
    "calendar['price'] = calendar['price'].str.replace(',', '.')\n",
    "calendar['price'] = calendar['price'].str.replace('.00', '')\n",
    "calendar['price'] = calendar['price'].astype(float)\n",
    "\n",
    "calendar['date'] = pd.to_datetime(calendar['date'])"
   ]
  },
  {
   "cell_type": "markdown",
   "metadata": {},
   "source": [
    "After that we can group by date and calculate the mean price across all listings for each date."
   ]
  },
  {
   "cell_type": "code",
   "execution_count": 200,
   "metadata": {},
   "outputs": [
    {
     "data": {
      "image/png": "[encoded data removed]",
      "text/plain": [
       "<Figure size 640x480 with 1 Axes>"
      ]
     },
     "metadata": {},
     "output_type": "display_data"
    }
   ],
   "source": [
    "calendar_grouped_by_date = calendar.groupby('date')\n",
    "\n",
    "calendar_mean_price = calendar_grouped_by_date['price'].mean()\n",
    "\n",
    "_ = calendar_mean_price.plot()"
   ]
  },
  {
   "cell_type": "markdown",
   "metadata": {},
   "source": [
    "Again, as expected, the prices are higher during the summer months and lower during the winter months with the exception of the Christmas period where prices are higher. This is a clear indication that the listings are more expensive during the tourist season."
   ]
  },
  {
   "cell_type": "code",
   "execution_count": 192,
   "metadata": {},
   "outputs": [
    {
     "data": {
      "image/png": "[encoded data removed]",
      "text/plain": [
       "<Figure size 640x480 with 1 Axes>"
      ]
     },
     "metadata": {},
     "output_type": "display_data"
    }
   ],
   "source": [
    "# Create a table with the average price per listing per day. Draw a graph visualizing the table.\n",
    "# Needs work\n",
    "# average_price_per_day = listings.groupby('last_review')['price'].mean()\n",
    "# _ = average_price_per_day.plot()"
   ]
  },
  {
   "cell_type": "markdown",
   "metadata": {},
   "source": [
    "## Listings per Host\n",
    "We will now visualize the listings each host has. This will give us an indication of how many listings are managed by professional hosts. We will use the ```value_counts()``` function on the host_id column to get the number of listings per host and then we will use the ```scatter()``` function to plot the results."
   ]
  },
  {
   "cell_type": "markdown",
   "metadata": {},
   "source": [
    "We will sort the results in descending order by number of listings such as a point $(x, y)$ will mean that the $x$-th highest hosting host has $y$ listings."
   ]
  },
  {
   "cell_type": "code",
   "execution_count": 212,
   "metadata": {},
   "outputs": [
    {
     "data": {
      "image/png": "[encoded data removed]",
      "text/plain": [
       "<Figure size 640x480 with 1 Axes>"
      ]
     },
     "metadata": {},
     "output_type": "display_data"
    }
   ],
   "source": [
    "host_listings_sorted = listings['host_id'].value_counts().sort_values(ascending=False)\n",
    "x = np.arange(1, len(host_listings_sorted) + 1)\n",
    "y = host_listings_sorted.values\n",
    "_ = plt.scatter(x, y, marker='x')"
   ]
  },
  {
   "cell_type": "markdown",
   "metadata": {},
   "source": [
    "The graph is descending rapidly. In that case we can use a logarithmic scale to better visualize the results."
   ]
  },
  {
   "cell_type": "code",
   "execution_count": 215,
   "metadata": {},
   "outputs": [
    {
     "data": {
      "image/png": "[encoded data removed]",
      "text/plain": [
       "<Figure size 640x480 with 1 Axes>"
      ]
     },
     "metadata": {},
     "output_type": "display_data"
    }
   ],
   "source": [
    "x = np.arange(1, len(host_listings_sorted) + 1)\n",
    "x = np.log(x)\n",
    "y = host_listings_sorted.values\n",
    "_ = plt.scatter(x, y, marker='x')"
   ]
  },
  {
   "cell_type": "markdown",
   "metadata": {},
   "source": [
    "## Visualize Listings\n",
    "\n",
    "Lastly, we can visualize the listings on an interactive map. We will use the folium library for this purpose. We will create a map centered on Athens and then we will add a marker for each listing. We will also add a popup with basic information about the listing."
   ]
  },
  {
   "cell_type": "code",
   "execution_count": 195,
   "metadata": {},
   "outputs": [],
   "source": [
    "import folium as fl"
   ]
  },
  {
   "cell_type": "code",
   "execution_count": 216,
   "metadata": {},
   "outputs": [],
   "source": [
    "# Get the coordinates of a sample listing as a starting point\n",
    "sample_listing = listings.sample(1)\n",
    "sample_listing_latitude = sample_listing['latitude'].values[0]\n",
    "sample_listing_longitude = sample_listing['longitude'].values[0]\n",
    "\n",
    "# Create a map with the sample listing as a starting point\n",
    "ath_map = fl.Map(location=[sample_listing_latitude, sample_listing_longitude], zoom_start=12, max_zoom=15)\n",
    "\n",
    "# Get the first 100 listings\n",
    "listings_head = listings.head(100)\n",
    "\n",
    "# Loop through each row in the dataframe\n",
    "for i,row in listings_head.iterrows():\n",
    "\n",
    "    # Create the html for the popup\n",
    "    html = f\"\"\"<h3>{row['name']}</h3>\n",
    "\n",
    "    <div>\n",
    "        <p><strong>Host:</strong>{row['host_name']}</p>\n",
    "        <p><strong>Neighbourhood:</strong> {row['neighbourhood']}</p>\n",
    "        <p><strong>Room Type:</strong> {row['room_type']}</p>\n",
    "        <p><strong>Price:</strong> {row['price']} €</p>\n",
    "        <p><strong>Minimum Nights:</strong> {row['minimum_nights']}</p>\n",
    "        <p><strong>Number of Reviews:</strong> {row['number_of_reviews']}</p>\n",
    "    </div>\n",
    "    \"\"\"\n",
    "    # Setup the content of the popup\n",
    "    iframe = fl.IFrame(html=html)\n",
    "    \n",
    "    # Initialise the popup using the iframe\n",
    "    popup = fl.Popup(iframe, min_width=300, max_width=300)\n",
    "    \n",
    "    # Add each row to the map\n",
    "    fl.Marker(location=[row['latitude'],row['longitude']],\n",
    "                  popup = popup).add_to(ath_map)\n",
    "\n",
    "# Save the map\n",
    "ath_map.save('index.html')"
   ]
  }
 ],
 "metadata": {
  "kernelspec": {
   "display_name": "Python 3",
   "language": "python",
   "name": "python3"
  },
  "language_info": {
   "codemirror_mode": {
    "name": "ipython",
    "version": 3
   },
   "file_extension": ".py",
   "mimetype": "text/x-python",
   "name": "python",
   "nbconvert_exporter": "python",
   "pygments_lexer": "ipython3",
   "version": "3.10.12"
  }
 },
 "nbformat": 4,
 "nbformat_minor": 2
}
